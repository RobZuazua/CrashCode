{
  "nbformat": 4,
  "nbformat_minor": 0,
  "metadata": {
    "colab": {
      "name": "JavaScript-Crash-Code.ipynb",
      "provenance": [],
      "collapsed_sections": [],
      "machine_shape": "hm",
      "include_colab_link": true
    },
    "accelerator": "GPU",
    "kernelspec": {
      "name": "javascript",
      "display_name": "Javascript"
    }
  },
  "cells": [
    {
      "cell_type": "markdown",
      "metadata": {
        "id": "view-in-github",
        "colab_type": "text"
      },
      "source": [
        "<a href=\"https://colab.research.google.com/github/RobZuazua/CrashCode/blob/master/JavaScript_Crash_Code.ipynb\" target=\"_parent\"><img src=\"https://colab.research.google.com/assets/colab-badge.svg\" alt=\"Open In Colab\"/></a>"
      ]
    },
    {
      "cell_type": "markdown",
      "metadata": {
        "id": "bjNF3VjPjJHV"
      },
      "source": [
        "# Set Up Javascript"
      ]
    },
    {
      "cell_type": "markdown",
      "metadata": {
        "id": "YhhncSngqUk4"
      },
      "source": [
        "Run cell (commands) below and then hit F5 (refresh the page) right after that"
      ]
    },
    {
      "cell_type": "code",
      "metadata": {
        "id": "ZVkF16NwcMsZ"
      },
      "source": [
        "!npm install -g --unsafe-perm ijavascript\n",
        "!ijsinstall --install=global\n",
        "!jupyter-kernelspec list"
      ],
      "execution_count": null,
      "outputs": []
    },
    {
      "cell_type": "markdown",
      "metadata": {
        "id": "r2UzIt5Gi6Em"
      },
      "source": [
        "That's it! :) Now in the next cells you can write JavaScript"
      ]
    },
    {
      "cell_type": "markdown",
      "metadata": {
        "id": "qbVfsd0emCWY"
      },
      "source": [
        "**Remember not to use `const` or `let`! Use `var` instead**\n",
        "\n",
        "This is how you can execute shell commands:"
      ]
    },
    {
      "cell_type": "code",
      "metadata": {
        "id": "SprjJpz2s9Yw",
        "outputId": "95f018ca-23a8-4cb9-e214-20ce6d774d08",
        "colab": {
          "base_uri": "https://localhost:8080/",
          "height": 34
        }
      },
      "source": [
        "console.log(\"hello\")"
      ],
      "execution_count": null,
      "outputs": [
        {
          "output_type": "stream",
          "text": [
            "hello\n"
          ],
          "name": "stdout"
        }
      ]
    },
    {
      "cell_type": "markdown",
      "metadata": {
        "id": "Uo8CBM9y0TFp"
      },
      "source": [
        "# How It Works"
      ]
    },
    {
      "cell_type": "markdown",
      "metadata": {
        "id": "WunmTsRyqc7M"
      },
      "source": [
        "Crash Code is about training software engineers to master the technical interview.\n",
        "\n",
        "1. I clearly identify the [underlying technical concepts](#scrollTo=qTZX2XylbCAd) for each category of questions from Strings to Dynamic Programming.\n",
        "\n",
        "2. I create the [minimum set of coding questions](#scrollTo=QlJsQ5xpRHg5) to test the understanding of the underlying technical concepts.\n",
        "\n",
        "3. **You can use the [minimum set of coding questions](#scrollTo=QlJsQ5xpRHg5) to learn the [underlying technical concepts](#scrollTo=qTZX2XylbCAd).**"
      ]
    },
    {
      "cell_type": "markdown",
      "metadata": {
        "id": "qTZX2XylbCAd"
      },
      "source": [
        "# Part 1: Technical Concepts "
      ]
    },
    {
      "cell_type": "markdown",
      "metadata": {
        "id": "AtoGZlcKXWHR"
      },
      "source": [
        "I identify the technical concepts by analyzing every question in the books *Cracking the Coding Interview*, *Elements  of the Programming Interview*, the top 100 most frequently asked questions on Leetcode, and Glassdoor. "
      ]
    },
    {
      "cell_type": "markdown",
      "metadata": {
        "id": "PgeIILSs4rLj"
      },
      "source": [
        "Therefore, you can focus on the core, fundamental, underlying concepts within each category of questions."
      ]
    },
    {
      "cell_type": "markdown",
      "metadata": {
        "id": "pUOC5nH5-0tY"
      },
      "source": [
        "## Strings"
      ]
    },
    {
      "cell_type": "markdown",
      "metadata": {
        "id": "9MQcjsoPdHPG"
      },
      "source": [
        "[Full Analysis of every String question in CTCI, EPI, Leetcode.](https://github.com/RobZuazua/CrashCode/blob/master/Resources/Analysis/Strings.md)"
      ]
    },
    {
      "cell_type": "markdown",
      "metadata": {
        "id": "ks5_Wb1tkl2L"
      },
      "source": [
        "**Summary of analysis:** There are 7 concepts that can be used to solve the vast majority of String  questions."
      ]
    },
    {
      "cell_type": "code",
      "metadata": {
        "id": "Gm_TijHValMA"
      },
      "source": [
        "/*\n",
        "1. Linear Time String Matching (Rabin Karp)\n",
        "2. Sliding Window (Fast/Slow, Fast/Catch Up)\n",
        "3. Two Pass\n",
        "4. Pre-fixing (Pre-sort, Pre-reverse, Pre-double)\n",
        "5. Work Backwards\n",
        "6. Two Pointer\n",
        "7. Additional Storage (Arrays, BitVectors)\n",
        "*/"
      ],
      "execution_count": null,
      "outputs": []
    },
    {
      "cell_type": "markdown",
      "metadata": {
        "id": "4sBCfAD0IDBp"
      },
      "source": [
        "[Watch an overview of these 7 technical concepts on youtube.](https://www.youtube.com/watch?v=vFOIDvTkzBs)"
      ]
    },
    {
      "cell_type": "markdown",
      "metadata": {
        "id": "Fw0OB8aA5BQu"
      },
      "source": [
        "To intuitively learn these concepts, [you must use each one to solve a question.](#scrollTo=QlJsQ5xpRHg5) "
      ]
    },
    {
      "cell_type": "markdown",
      "metadata": {
        "id": "C_iLOQtI_Ahe"
      },
      "source": [
        "## Linked Lists (In Progress)"
      ]
    },
    {
      "cell_type": "markdown",
      "metadata": {
        "id": "JrO6WCD1_RNT"
      },
      "source": [
        "## Stacks and Queues (In Progress)"
      ]
    },
    {
      "cell_type": "markdown",
      "metadata": {
        "id": "89YgG2eY_ZKz"
      },
      "source": [
        "## Binary Trees (In Progress)"
      ]
    },
    {
      "cell_type": "markdown",
      "metadata": {
        "id": "nrjhZAaI_nXC"
      },
      "source": [
        "## Heaps (In Progress)"
      ]
    },
    {
      "cell_type": "markdown",
      "metadata": {
        "id": "7ZlF9-EA_pPV"
      },
      "source": [
        "## Graphs (In Progress)"
      ]
    },
    {
      "cell_type": "markdown",
      "metadata": {
        "id": "FHPEm4g2_rKx"
      },
      "source": [
        "## Hash Tables (In Progress)"
      ]
    },
    {
      "cell_type": "markdown",
      "metadata": {
        "id": "HaqBkO84_ulS"
      },
      "source": [
        "## Searching (In Progress)"
      ]
    },
    {
      "cell_type": "markdown",
      "metadata": {
        "id": "2o2-C1_q_wTD"
      },
      "source": [
        "## Sorting (In Progress)"
      ]
    },
    {
      "cell_type": "markdown",
      "metadata": {
        "id": "hV1XAT33_yIi"
      },
      "source": [
        "## Recursion (In Progress)"
      ]
    },
    {
      "cell_type": "markdown",
      "metadata": {
        "id": "lzoTBHVU_zvo"
      },
      "source": [
        "## Dynamic Programming (In Progress)"
      ]
    },
    {
      "cell_type": "markdown",
      "metadata": {
        "id": "8Mw1AshM_Gl2"
      },
      "source": [
        ""
      ]
    },
    {
      "cell_type": "markdown",
      "metadata": {
        "id": "QlJsQ5xpRHg5"
      },
      "source": [
        "# Part 2: Coding Questions"
      ]
    },
    {
      "cell_type": "markdown",
      "metadata": {
        "id": "HTpZJoO5lxPm"
      },
      "source": [
        "The most effective way to learn the technical concepts is to use them to solve a question entirely on your own."
      ]
    },
    {
      "cell_type": "markdown",
      "metadata": {
        "id": "OuU5mvPlOGF9"
      },
      "source": [
        "Included below are the **minimum set of questions that cover all concepts**."
      ]
    },
    {
      "cell_type": "markdown",
      "metadata": {
        "id": "EvusZCFJR7Q1"
      },
      "source": [
        "## 1 Click Setup"
      ]
    },
    {
      "cell_type": "code",
      "metadata": {
        "id": "oDJeO4CLSCdd"
      },
      "source": [
        "var logResultsInt = function(expectedResponse, actualResponse) {    \n",
        "  if (actualResponse == expectedResponse){\n",
        "    console.log(\"✅ PASS! Integer Value = \" + actualResponse);\n",
        "  } else {\n",
        "    console.log(\"🔥 Try Again! Expected Integer Value: \" + expectedResponse + \"\\n\" + \"But your code returned Integer Value: \" + actualResponse);\n",
        "  }\n",
        "}\n",
        "\n",
        "var logResultsBool = function(expectedResponse, actualResponse) {\n",
        "    if (actualResponse == expectedResponse){\n",
        "        console.log(\"✅ PASS! Bool Value = \" + actualResponse);\n",
        "    } else {\n",
        "        console.log(\"🔥 Try Again! Expected Bool Value: \" + expectedResponse + \"\\n\" + \"But your code returned Bool Value: \" + actualResponse);\n",
        "    }\n",
        "}\n",
        "\n",
        "var logResultsString = function(expectedResponse, actualResponse) {\n",
        "    if (actualResponse == expectedResponse){\n",
        "        console.log(\"✅ PASS! String Value = \" + actualResponse);\n",
        "    } else {\n",
        "        console.log(\"🔥 Try Again! Expected String Value: \" + expectedResponse + \"\\n\" + \"But your code returned String Value: \" + actualResponse);\n",
        "    }\n",
        "}\n",
        "\n",
        "var logResultsSet = function(expectedResponses, actualResponse) {\n",
        "    if (expectedResponses.includes(actualResponse)) {\n",
        "        console.log(\"✅ PASS! String Value = \" + actualResponse);\n",
        "    } else {\n",
        "        console.log(\"🔥 Try Again! Expected String Value in: \" + expectedResponses.toString() + \"\\n\" + \"But your code returned String Value: \" + actualResponse);\n",
        "    }\n",
        "}"
      ],
      "execution_count": null,
      "outputs": []
    },
    {
      "cell_type": "markdown",
      "metadata": {
        "id": "CHweop7K0cfJ"
      },
      "source": [
        "## Strings"
      ]
    },
    {
      "cell_type": "markdown",
      "metadata": {
        "id": "4N87nAxtKdzX"
      },
      "source": [
        "### Q1: Make Parenthesis Valid"
      ]
    },
    {
      "cell_type": "markdown",
      "metadata": {
        "id": "kdhLqofYQrG7"
      },
      "source": [
        "**Remove Minimum Number of Parenthesis to Make Valid**\n",
        "\n",
        "Given a string s containing:\n",
        "\n",
        "- `'('`\n",
        "- `')'`\n",
        "- other ASCII characters\n",
        "\n",
        "**Your task**\n",
        "\n",
        "Remove the minimum number of parentheses so that the resulting parenthesis string is valid\n",
        "\n",
        "**Output**\n",
        "\n",
        "Return ***any*** valid string. There may be more than 1 solution.\n",
        "\n",
        "A parentheses string is valid if:\n",
        "\n",
        "- It is the empty string\n",
        "- It contains only lowercase characters\n",
        "- Every open parenthesis `'('` has a closing parentheis `')'` after it AND every closing parenthesis `')'` has an opening parenthesis `'('` before it\n",
        "\n",
        "**Example 1**\n",
        "\n",
        "1. Input: s = `\"y(e(e(h))a)w)\"`\n",
        "2. Output: `\"y(e(e(h))a)w\"`\n",
        "3. Explanation: `\"y(e(e(h)a)w)\"` , `\"y(e(e(h))aw)\"` would also be accepted.\n",
        "\n",
        "**Example 2**\n",
        "\n",
        "1. Input: s = `\")ca(5)h\"`\n",
        "2. Output: `\"ca(5)h\"`\n",
        "\n",
        "**Example 3**\n",
        "\n",
        "1. Input: s = `\")))))((\"`\n",
        "2. Output: `\"\"`\n",
        "3. Explanation: An empty string is valid.\n",
        "\n",
        "**Example 4**\n",
        "\n",
        "1. Input: s = `\"(c(o(D)3)\"`\n",
        "2. Output: `\"c(o(D)3)\"`\n",
        "3. Explanation: `\"(co(D)3)\"` , `\"(c(oD)3)\"` would also be accepted.\n",
        "\n",
        "**Example 5**\n",
        "\n",
        "1. 1 <= s.length <= 10^5\n",
        "2. s[i] may contain  `'('` , `')'` or any other ASCII character.\n"
      ]
    },
    {
      "cell_type": "code",
      "metadata": {
        "id": "qV3nHbQgRPE0"
      },
      "source": [
        "// Write your code here\n",
        "var makeParenthesisValid = function(s) {\n",
        "  return s;\n",
        "}"
      ],
      "execution_count": null,
      "outputs": []
    },
    {
      "cell_type": "code",
      "metadata": {
        "id": "7eFmda-RRWI6",
        "outputId": "fced3b13-b9b6-4419-f59b-fb7aeae4697e",
        "colab": {
          "base_uri": "https://localhost:8080/",
          "height": 51
        }
      },
      "source": [
        "// Change these values to manually test your program\n",
        "var strInput = \"y(e(e(h))a)w)\";\n",
        "var acceptedResponses = [\"y(e(e(h))a)w\", \"y(e(e(h)a)w)\", \"y(e(e(h))aw)\"]\n",
        "var actualResponse = makeParenthesisValid(strInput);\n",
        "logResultsSet(acceptedResponses, actualResponse);"
      ],
      "execution_count": null,
      "outputs": [
        {
          "output_type": "stream",
          "text": [
            "🔥 Try Again! Expected String Value in: y(e(e(h))a)w,y(e(e(h)a)w),y(e(e(h))aw)\n",
            "But your code returned String Value: y(e(e(h))a)w)\n"
          ],
          "name": "stdout"
        }
      ]
    },
    {
      "cell_type": "markdown",
      "metadata": {
        "id": "SnPNCqODrwrz"
      },
      "source": [
        "[hint 1](https://github.com/RobZuazua/CrashCode/blob/master/Resources/Hints/Strings/q1-hint-1.txt) [hint 2](https://github.com/RobZuazua/CrashCode/blob/master/Resources/Hints/Strings/q1-hint-2.txt)"
      ]
    },
    {
      "cell_type": "markdown",
      "metadata": {
        "id": "wjFk-h33ewS8"
      },
      "source": [
        "### Q2: Is Palindrome"
      ]
    },
    {
      "cell_type": "markdown",
      "metadata": {
        "id": "aLLTbulxczKB"
      },
      "source": [
        "**Input**\n",
        "\n",
        "Given a string s containing:\n",
        "\n",
        "- Unicode characters\n",
        "\n",
        "**Your task**\n",
        "\n",
        "Determine if the string reads the same forwards and backwards after you remove all non-alphanumeric characters. This function should be case sensitive.\n",
        "\n",
        "**Output**\n",
        "\n",
        "Return a boolean value. An empty string is a valid palindrome.\n",
        "\n",
        "**Example 1**\n",
        "\n",
        "1. Input: s = `\"civic\"`\n",
        "2. Output: `true`\n",
        "3. Explanation: `\"civic\"` reads the same forwards and backwards.\n",
        "\n",
        "**Example 2**\n",
        "\n",
        "1. Input: s = `\"Hannah\"`\n",
        "2. Output: `false`\n",
        "3. Explanation: This function should be case sensitive. `\"Hannah\"` != `\"hannaH\"`\n",
        "\n",
        "**Example 3**\n",
        "\n",
        "1. Input: s = `\"a, ka, ya-k..a\"`\n",
        "2. Output: `true`\n",
        "3. Explanation: When you remove all non-alphanumeric characters, `\"akayaka\"` reads the same forwards and backwards.\n",
        "\n",
        "**Constraints**\n",
        "\n",
        "1. 1 <= s.length <= 10^5\n",
        "2. s[i] may contain any Unicode character.\n"
      ]
    },
    {
      "cell_type": "code",
      "metadata": {
        "id": "pgBhVAy-czZu"
      },
      "source": [
        "// Write your code here \n",
        "var isPalindrome = function(s) {\n",
        "  return s == \"Cattywampus\";\n",
        "}\n"
      ],
      "execution_count": null,
      "outputs": []
    },
    {
      "cell_type": "code",
      "metadata": {
        "id": "rK2azp2oczok",
        "outputId": "1d6d3213-32d6-4b27-b5b7-62309e6c113e",
        "colab": {
          "base_uri": "https://localhost:8080/",
          "height": 51
        }
      },
      "source": [
        "// Change these values to manually test your program\n",
        "var strInput = \"a, ka, ya-k..a\";\n",
        "var acceptedResponse = true;\n",
        "var actualResponse = isPalindrome(strInput);\n",
        "logResultsBool(acceptedResponse, actualResponse);"
      ],
      "execution_count": null,
      "outputs": [
        {
          "output_type": "stream",
          "text": [
            "🔥 Try Again! Expected Bool Value: true\n",
            "But your code returned Bool Value: false\n"
          ],
          "name": "stdout"
        }
      ]
    },
    {
      "cell_type": "markdown",
      "metadata": {
        "id": "_RunKjgKrzGf"
      },
      "source": [
        "[hint 1](https://github.com/RobZuazua/CrashCode/blob/master/Resources/Hints/Strings/q2-hint-1.txt)"
      ]
    },
    {
      "cell_type": "markdown",
      "metadata": {
        "id": "bIdjzrzyexTb"
      },
      "source": [
        "### Q3: Is Only Unique Characters"
      ]
    },
    {
      "cell_type": "markdown",
      "metadata": {
        "id": "VDyv4kMAc0b6"
      },
      "source": [
        "**Input**\n",
        "\n",
        "Given a string s containing:\n",
        "\n",
        "- any ASCII characters\n",
        "\n",
        "**Your task**\n",
        "\n",
        "Determine if the string contains all unique characters. This function is case sensitive.\n",
        "\n",
        "**Output**\n",
        "\n",
        "Return a boolean value. An empty string should return `true`.\n",
        "\n",
        "**Example 1**\n",
        "\n",
        "1. Input: s = `\"Cattywampus\"`\n",
        "2. Output: `false`\n",
        "3. Explanation: The character `t` occurs more than once\n",
        "\n",
        "**Example 2**\n",
        "\n",
        "1. Input: s = `\"Fard\"`\n",
        "2. Output: `true`\n",
        "3. Every character is unique\n",
        "\n",
        "**Example 3**\n",
        "\n",
        "1. Input: s = `\")(Ff\"`\n",
        "2. Output: `true`\n",
        "3. Explanation: Every character is unique\n",
        "\n",
        "**Constraints**\n",
        "\n",
        "1. 1 <= s.length <= 10^5\n",
        "2. s[i] may contain any other ASCII character.\n"
      ]
    },
    {
      "cell_type": "code",
      "metadata": {
        "id": "EHqVqd6Vc0pB"
      },
      "source": [
        "// Write your code here \n",
        "var IsOnlyUniqueCharacters = function(s) {\n",
        "  return s == \"Cattywampus\";\n",
        "}"
      ],
      "execution_count": null,
      "outputs": []
    },
    {
      "cell_type": "code",
      "metadata": {
        "id": "bmLbooFPc00n",
        "outputId": "fbb9841c-71c8-466c-aedd-d45c27ba8aaf",
        "colab": {
          "base_uri": "https://localhost:8080/",
          "height": 51
        }
      },
      "source": [
        "// Change these values to manually test your program\n",
        "var strInput = \"Cattywampus\";\n",
        "var acceptedResponse = false;\n",
        "var actualResponse = IsOnlyUniqueCharacters(strInput);\n",
        "logResultsBool(acceptedResponse, actualResponse);"
      ],
      "execution_count": null,
      "outputs": [
        {
          "output_type": "stream",
          "text": [
            "🔥 Try Again! Expected Bool Value: false\n",
            "But your code returned Bool Value: true\n"
          ],
          "name": "stdout"
        }
      ]
    },
    {
      "cell_type": "markdown",
      "metadata": {
        "id": "_xMZVqRNn6bu"
      },
      "source": [
        "[hint 1](https://github.com/RobZuazua/CrashCode/blob/master/Resources/Hints/Strings/q3-hint-1.txt)"
      ]
    },
    {
      "cell_type": "markdown",
      "metadata": {
        "id": "ct_dsa4QeyBl"
      },
      "source": [
        "### Q4: Is Palindrome Permutation"
      ]
    },
    {
      "cell_type": "markdown",
      "metadata": {
        "id": "nm4Ee_Ixc2zQ"
      },
      "source": [
        "**Input**\n",
        "\n",
        "Given a string s containing:\n",
        "\n",
        "- Alphanumeric ASCII characters\n",
        "\n",
        "**Your task**\n",
        "\n",
        "Determine if the input string is or could be turned into a palindrome by reordering characters. This function only needs to take alphanumeric characters into account and case does not matter.\n",
        "\n",
        "**Output**\n",
        "\n",
        "Return a boolean value.\n",
        "\n",
        "A string is a palindrome if:\n",
        "\n",
        "- It is the empty string\n",
        "- The string reads the same forwards and backwards after you remove all non-alphanumeric characters.\n",
        "\n",
        "**Example 1**\n",
        "\n",
        "1. Input: s = `\"Car e car\"`\n",
        "2. Output: `true`\n",
        "3. Explanation: `\"racecar\"` is a palindrome.\n",
        "\n",
        "**Example 2**\n",
        "\n",
        "1. Input: s = `\"\"`\n",
        "2. Output: `true`\n",
        "3. Explanation: The empty string is a palindrome.\n",
        "\n",
        "**Example 3**\n",
        "\n",
        "1. Input: s = `\"tacocats\"`\n",
        "2. Output: `false`\n",
        "3. Explanation: There is no palindrome.\n",
        "\n",
        "**Constraints**\n",
        "\n",
        "1. 1 <= s.length <= 10^5"
      ]
    },
    {
      "cell_type": "code",
      "metadata": {
        "id": "hWJU4uRRc2zR"
      },
      "source": [
        "// Write your code here \n",
        "var IsPalindromePermutation = function(s) {\n",
        "  return s == \"Car e car\";\n",
        "}"
      ],
      "execution_count": null,
      "outputs": []
    },
    {
      "cell_type": "code",
      "metadata": {
        "id": "_fVBs2cDc2zU",
        "outputId": "4773284b-de17-46d5-967f-b26e1a927058",
        "colab": {
          "base_uri": "https://localhost:8080/",
          "height": 34
        }
      },
      "source": [
        "// Change these values to manually test your program\n",
        "var strInput = \"Car e car\";\n",
        "var acceptedResponse = true;\n",
        "var actualResponse = IsPalindromePermutation(strInput);\n",
        "logResultsBool(acceptedResponse, actualResponse);"
      ],
      "execution_count": null,
      "outputs": [
        {
          "output_type": "stream",
          "text": [
            "✅ PASS! Bool Value = true\n"
          ],
          "name": "stdout"
        }
      ]
    },
    {
      "cell_type": "markdown",
      "metadata": {
        "id": "YEStmvKZoDbl"
      },
      "source": [
        "[hint 1](https://github.com/RobZuazua/CrashCode/blob/master/Resources/Hints/Strings/q4-hint-1.txt)"
      ]
    },
    {
      "cell_type": "markdown",
      "metadata": {
        "id": "0-ZP_KGeeyqa"
      },
      "source": [
        "### Q5: Is Permutation"
      ]
    },
    {
      "cell_type": "markdown",
      "metadata": {
        "id": "bayWnBlec3hk"
      },
      "source": [
        "**Input**\n",
        "\n",
        "Given two strings s and t containing:\n",
        "\n",
        "- any ASCII characters\n",
        "\n",
        "**Your task**\n",
        "\n",
        "Determine if one string is a permutation of the other. Not case sensitive.\n",
        "\n",
        "**Output**\n",
        "\n",
        "Return a boolean value.\n",
        "\n",
        "**Example 1**\n",
        "\n",
        "1. Input: s = `\"Avery likes Shaun\"` t = `\"shaun likes avery\"`\n",
        "2. Output: `true`\n",
        "3. Explanation: `\"Avery likes Shaun\"` is a permutation of `\"shaun likes avery\"`.\n",
        "\n",
        "**Example 2**\n",
        "\n",
        "1. Input: s = `\"tea\"` t = `\"tea party\"`\n",
        "2. Output: `false`\n",
        "3. Explanation: Strings of different lengths cannot be permutations of each other.\n",
        "\n",
        "**Constraints**\n",
        "\n",
        "1. 1 <= s.length <= 10^5\n",
        "2. 1 <= t.length <= 10^5\n",
        "3. s[i] and t[i] may contain any ASCII character.\n"
      ]
    },
    {
      "cell_type": "code",
      "metadata": {
        "id": "7OK61Mqwc3hl"
      },
      "source": [
        "// Write your code here \n",
        "var IsPermutation = function(s, t) {\n",
        "  return s == t;\n",
        "}"
      ],
      "execution_count": null,
      "outputs": []
    },
    {
      "cell_type": "code",
      "metadata": {
        "id": "ii6hZvXMc3hn",
        "outputId": "ff752cca-ad75-4b0f-fc9a-63a5ff4c430c",
        "colab": {
          "base_uri": "https://localhost:8080/",
          "height": 51
        }
      },
      "source": [
        "// Change these values to manually test your program\n",
        "var strInput1 = \"Avery likes Shaun\";\n",
        "var strInput2 = \"shaun likes avery\";\n",
        "var acceptedResponse = true;\n",
        "var actualResponse = IsPermutation(strInput1, strInput2);\n",
        "logResultsBool(\"5: Is Permutation\", acceptedResponse, actualResponse);"
      ],
      "execution_count": null,
      "outputs": [
        {
          "output_type": "stream",
          "text": [
            "🔥 Try Again! Expected Bool Value: 5: Is Permutation\n",
            "But your code returned Bool Value: true\n"
          ],
          "name": "stdout"
        }
      ]
    },
    {
      "cell_type": "markdown",
      "metadata": {
        "id": "5PMFaXNNoML7"
      },
      "source": [
        "[hint 1](https://github.com/RobZuazua/CrashCode/blob/master/Resources/Hints/Strings/q5-hint-1.txt)"
      ]
    },
    {
      "cell_type": "markdown",
      "metadata": {
        "id": "a7cG1H_CezBR"
      },
      "source": [
        "### Q6: Reverse Word Ordering"
      ]
    },
    {
      "cell_type": "markdown",
      "metadata": {
        "id": "kzcVwBUqc6s8"
      },
      "source": [
        "**Input**\n",
        "\n",
        "Given a string s containing\n",
        "\n",
        "- alphnumeric characters\n",
        "- whitespace\n",
        "\n",
        "**Your task**\n",
        "\n",
        "Reverse all the words such that the words appear in reverse order. Trim Whitespace.\n",
        "\n",
        "**Output**\n",
        "\n",
        "Return a string.\n",
        "\n",
        "**Example 1**\n",
        "\n",
        "1. Input: s = `\"rob likes code\"`\n",
        "2. Output: `\"code likes rob\"`\n",
        "3. Explanation: String is reversed word by word.\n",
        "\n",
        "**Example 2**\n",
        "\n",
        "1. Input: s = `\"  Race car \"`\n",
        "2. Output: `\"car Race\"`\n",
        "3. Explanation: Whitespace is trimmed.\n",
        "\n",
        "**Example 3**\n",
        "\n",
        "1. Input: s = `\"sandy   beach\"`\n",
        "2. Output: `\"beach sandy\"`\n",
        "3. Explanation: Whitespace in between words is trimmed.\n",
        "\n",
        "**Constraints**\n",
        "\n",
        "1. 1 <= s.length <= 10^5\n",
        "2. s[i] may contain any alphanumeric characters or whitespace.\n"
      ]
    },
    {
      "cell_type": "code",
      "metadata": {
        "id": "1n8wbeHoc6s9"
      },
      "source": [
        "// Write your code here\n",
        "var reverseWordOrdering = function(s) {\n",
        "  return s;\n",
        "}"
      ],
      "execution_count": null,
      "outputs": []
    },
    {
      "cell_type": "code",
      "metadata": {
        "id": "ttoy7yj9c6s_",
        "outputId": "9fdfd87e-4dfe-4c2b-9bf3-3c4e977ef3d6",
        "colab": {
          "base_uri": "https://localhost:8080/",
          "height": 51
        }
      },
      "source": [
        "// Change these values to manually test your program\n",
        "var strInput = \"rob likes code\";\n",
        "var acceptedResponse = \"code likes rob\";\n",
        "var actualResponse = reverseWordOrdering(strInput);\n",
        "logResultsString(acceptedResponse, actualResponse);"
      ],
      "execution_count": null,
      "outputs": [
        {
          "output_type": "stream",
          "text": [
            "🔥 Try Again! Expected String Value: code likes rob\n",
            "But your code returned String Value: rob likes code\n"
          ],
          "name": "stdout"
        }
      ]
    },
    {
      "cell_type": "markdown",
      "metadata": {
        "id": "qFcWzNKNoRlG"
      },
      "source": [
        "[hint 1](https://github.com/RobZuazua/CrashCode/blob/master/Resources/Hints/Strings/q6-hint-1.txt)"
      ]
    },
    {
      "cell_type": "markdown",
      "metadata": {
        "id": "C5Q4UqxnezkI"
      },
      "source": [
        "### Q7: Find First Substring"
      ]
    },
    {
      "cell_type": "markdown",
      "metadata": {
        "id": "1iW-wYlec7Si"
      },
      "source": [
        "**Input**\n",
        "\n",
        "Given two strings s (search string) and t (block of text) containing:\n",
        "\n",
        "- any ASCII characters\n",
        "\n",
        "**Your task**\n",
        "\n",
        "Determine the position of the first occurence of s in t.\n",
        "\n",
        "**Output**\n",
        "\n",
        "Return an integer representing the position of the first occurence of the substring s in t.\n",
        "\n",
        "**Example 1**\n",
        "\n",
        "1. Input: s = `\"dog\"` t = `\"a cat and dog ran through the yard chasing a dog\"`\n",
        "2. Output: `10`\n",
        "3. Explanation: `10` is the position of the first occurence of the search string in the block of text.\n",
        "\n",
        "**Example 2**\n",
        "\n",
        "1. Input: s = `\"yes\"` t = `\"yes and no\"`\n",
        "2. Output: `0`\n",
        "3. Explanation: `0` is the position of the first occurence of the search string in the block of text.\n",
        "\n",
        "**Constraints**\n",
        "\n",
        "1. 1 <= s.length <= t.length <= 10^5\n",
        "2. s[i] and t[i] may contain any ASCII character.\n"
      ]
    },
    {
      "cell_type": "code",
      "metadata": {
        "id": "GuUc1rk1c7Sj"
      },
      "source": [
        "// Write your code here\n",
        "var findFirstSubstring = function(s, t) {\n",
        "  return 10;\n",
        "}"
      ],
      "execution_count": null,
      "outputs": []
    },
    {
      "cell_type": "code",
      "metadata": {
        "id": "qyb8MPxnc7Sl",
        "outputId": "ac1d056e-a812-4d1b-87d0-9a3c121283e9",
        "colab": {
          "base_uri": "https://localhost:8080/",
          "height": 34
        }
      },
      "source": [
        "// Change these values to manually test your program\n",
        "var strInput1 = \"dog\";\n",
        "var strInput2 = \"a cat and dog ran through the yard chasing a dog\";\n",
        "var acceptedResponse = 10;\n",
        "var actualResponse = findFirstSubstring(strInput1, strInput2);\n",
        "logResultsInt(acceptedResponse, actualResponse);"
      ],
      "execution_count": null,
      "outputs": [
        {
          "output_type": "stream",
          "text": [
            "✅ PASS! Integer Value = 10\n"
          ],
          "name": "stdout"
        }
      ]
    },
    {
      "cell_type": "markdown",
      "metadata": {
        "id": "SmcWM4FsoaOQ"
      },
      "source": [
        "[hint 1](https://github.com/RobZuazua/CrashCode/blob/master/Resources/Hints/Strings/q7-hint-1.txt)"
      ]
    },
    {
      "cell_type": "markdown",
      "metadata": {
        "id": "rMCErEx8BShU"
      },
      "source": [
        "### Q8: Longest Substring No Repeats"
      ]
    },
    {
      "cell_type": "markdown",
      "metadata": {
        "id": "0PQARkfZc7vR"
      },
      "source": [
        "**Input**\n",
        "\n",
        "Given a string s containing:\n",
        "\n",
        "- any ASCII characters\n",
        "\n",
        "**Your task**\n",
        "\n",
        "Determine the length of the longest substring without any repeating characters.\n",
        "\n",
        "**Output**\n",
        "\n",
        "Return the length of the longest substring without any repeating characters.\n",
        "\n",
        "**Example 1**\n",
        "\n",
        "1. Input: s = `\"aabcc\"`\n",
        "2. Output: `3`\n",
        "3. Explanation: `\"abc\"` is the longest substring without any repeating characters.\n",
        "\n",
        "**Example 2**\n",
        "\n",
        "1. Input: s = `\"222\"`\n",
        "2. Output: `1`\n",
        "3. Explanation: `\"2\"` is the longest substring without any repeating characters.\n",
        "\n",
        "**Example 3**\n",
        "\n",
        "1. Input: s = `\")))))((\"`\n",
        "2. Output: `2`\n",
        "3. Explanation: `\")(\"` is the longest substring without any repeating characters.\n",
        "\n",
        "**Constraints**\n",
        "\n",
        "1. 1 <= s.length <= 10^5\n",
        "2. s[i] may contain any ASCII character.\n"
      ]
    },
    {
      "cell_type": "code",
      "metadata": {
        "id": "nFlT5bb3c7vS"
      },
      "source": [
        "// Write your code here\n",
        "var longestStringNoRepeats = function(s) {\n",
        "  return 10;\n",
        "}"
      ],
      "execution_count": null,
      "outputs": []
    },
    {
      "cell_type": "code",
      "metadata": {
        "id": "jpUOJnZnc7vU",
        "outputId": "65700286-33b1-415c-8c09-39456e05eb8c",
        "colab": {
          "base_uri": "https://localhost:8080/",
          "height": 51
        }
      },
      "source": [
        "// Change these values to manually test your program\n",
        "var strInput = \"aabcc\";\n",
        "var acceptedResponse = 3;\n",
        "var actualResponse = longestStringNoRepeats(strInput);\n",
        "logResultsInt(\"8: Longest Substring No Repeats\", acceptedResponse, actualResponse);"
      ],
      "execution_count": null,
      "outputs": [
        {
          "output_type": "stream",
          "text": [
            "🔥 Try Again! Expected Integer Value: 8: Longest Substring No Repeats\n",
            "But your code returned Integer Value: 3\n"
          ],
          "name": "stdout"
        }
      ]
    },
    {
      "cell_type": "markdown",
      "metadata": {
        "id": "JzlFbxjtogSg"
      },
      "source": [
        "[hint 1](https://github.com/RobZuazua/CrashCode/blob/master/Resources/Hints/Strings/q8-hint-1.txt)"
      ]
    },
    {
      "cell_type": "markdown",
      "metadata": {
        "id": "oTasTLCuBXa_"
      },
      "source": [
        "### Q9: Minimum Window Substring"
      ]
    },
    {
      "cell_type": "markdown",
      "metadata": {
        "id": "p-wvbq80c8F-"
      },
      "source": [
        "**Input**\n",
        "\n",
        "Given two strings s and t containing:\n",
        "\n",
        "- any ASCII characters\n",
        "\n",
        "**Your task**\n",
        "\n",
        "Determine the smallest \"window\" of characters in s which contains all the characters in t.\n",
        "\n",
        "**Output**\n",
        "\n",
        "Return the size of the smallest window. There may be more than 1 window with the same size. If there is no such window, return 0.\n",
        "\n",
        "**Example 1**\n",
        "\n",
        "1. Input: s = `\"readingrocks\"` t = `\"dog\"`\n",
        "2. Output: `6`\n",
        "3. Explanation: `\"dingro\"` is the smallest window of characters in s that contains all the characters in t.\n",
        "\n",
        "**Example 2**\n",
        "\n",
        "1. Input: s = `\"tea\"` t = `\"party\"`\n",
        "2. Output: `0`\n",
        "3. Explanation: There is no window.\n",
        "\n",
        "**Constraints**\n",
        "\n",
        "1. 1 <= s.length <= 10^5\n",
        "2. 1 <= t.length <= 10^5\n",
        "3. s[i] and t[i] may contain any ASCII character.\n"
      ]
    },
    {
      "cell_type": "code",
      "metadata": {
        "id": "oyCe6qAFc8F-"
      },
      "source": [
        "// Write your code here\n",
        "var minimumSubstringWindow = function(s, t) {\n",
        "  return 10;\n",
        "}"
      ],
      "execution_count": null,
      "outputs": []
    },
    {
      "cell_type": "code",
      "metadata": {
        "id": "LK-HL78Jc8GB",
        "outputId": "d016dbe7-044a-4520-869a-e84633a867d5",
        "colab": {
          "base_uri": "https://localhost:8080/",
          "height": 51
        }
      },
      "source": [
        "// Change these values to manually test your program\n",
        "var strInput1 = \"readingrocks\";\n",
        "var strInput2 = \"dog\";\n",
        "var acceptedResponse = 6;\n",
        "var actualResponse = minimumSubstringWindow(strInput1, strInput2);\n",
        "logResultsInt(\"9: Minimum Substring Window\", acceptedResponse, actualResponse);"
      ],
      "execution_count": null,
      "outputs": [
        {
          "output_type": "stream",
          "text": [
            "🔥 Try Again! Expected Integer Value: 9: Minimum Substring Window\n",
            "But your code returned Integer Value: 6\n"
          ],
          "name": "stdout"
        }
      ]
    },
    {
      "cell_type": "markdown",
      "metadata": {
        "id": "lWnG-KiiokbP"
      },
      "source": [
        "[hint 1](https://github.com/RobZuazua/CrashCode/blob/master/Resources/Hints/Strings/q9-hint-1.txt)"
      ]
    },
    {
      "cell_type": "markdown",
      "metadata": {
        "id": "YyE7Q35CBcih"
      },
      "source": [
        "### Q10: Roman To Decimal"
      ]
    },
    {
      "cell_type": "markdown",
      "metadata": {
        "id": "cIRy47Gnc8j-"
      },
      "source": [
        "**Input**\n",
        "\n",
        "You are given a string representing a roman numeral.\n",
        "\n",
        "**Your task**\n",
        "\n",
        "Convert this roman numeral to an integer.\n",
        "\n",
        "**Roman Numeral Context**\n",
        "\n",
        "There are seven different Roman numeral symbols: I, V, X, L, C, D and M. Each symbol represents an integer value.\n",
        "\n",
        "```json\n",
        "Symbol       Value\n",
        "I             1\n",
        "V             5\n",
        "X             10\n",
        "L             50\n",
        "C             100\n",
        "D             500\n",
        "M             1000\n",
        "```\n",
        "\n",
        "You can represent 2 in roman numerals like `II` which is basically `I` (1) + `I` (1).\n",
        "You can represent 6 in roman numberal like `VI` which is basically + `V` (5) + `I` (1).\n",
        "\n",
        "Roman numerals are written left to right with larger than smaller symbols. However, there are a few exceptions. When smaller symbols are placed before larger ones, you subtract the smaller number from the larger\n",
        "\n",
        "- `I` (1) can be placed before `V` (5) and `X` (10) to make `IV` (4) and `IX` (9).\n",
        "- `X` (10) can be placed before `L` (50) and `C` (100) to make `XL` (40) and `XC` (90).\n",
        "- `C` (100) can be placed before `D` (500) and `M` (1000) to make `CD` (400) and `CM` (900).\n",
        "\n",
        "Back to back exceptions are not allowed. Ex: `IXC` is invalid as is `CDM`\n",
        "\n",
        "**Output**\n",
        "\n",
        "An integer represented by the roman numeral string.\n",
        "\n",
        "**Example 1**\n",
        "\n",
        "1. Input: `II`\n",
        "2. Output: 2\n",
        "\n",
        "**Example 2**\n",
        "\n",
        "1. Input: `IV`\n",
        "2. Output: 4\n",
        "3. Explanation: Since we hit an exception, we subtract `I` from `V`.\n",
        "\n",
        "**Example 3**\n",
        "\n",
        "1. Input: `CIX`\n",
        "2. Output: 109\n",
        "3. Explanation: `C` = 100, `IX` = 9\n",
        "\n",
        "**Example 4**\n",
        "\n",
        "1. Input: `LVI`\n",
        "2. Output: 56\n",
        "3. Explanation: `L` = 50, `V`= 5, `I` = 3.\n",
        "\n",
        "**Example 5**\n",
        "\n",
        "1. Input: `MCMXCIV`\n",
        "2. Output: 1994\n",
        "3. Explanation: M = 1000, CM = 900, XC = 90 and IV = 4.\n",
        "\n",
        "**Constraints**\n",
        "\n",
        "Input is guaranteed to be within the range from 1 to 3999.\n"
      ]
    },
    {
      "cell_type": "code",
      "metadata": {
        "id": "MEMf7SMRc8j_"
      },
      "source": [
        "// Write your code here \n",
        "var romanToDecimal = function(s) {\n",
        "  return 2;\n",
        "}"
      ],
      "execution_count": null,
      "outputs": []
    },
    {
      "cell_type": "code",
      "metadata": {
        "id": "ucuteT_8c8kB",
        "outputId": "0e66bf0a-3fd4-4b8c-c7a4-fb76fe7b8a65",
        "colab": {
          "base_uri": "https://localhost:8080/",
          "height": 51
        }
      },
      "source": [
        "// Change these values to manually test your program\n",
        "var strInput = \"II\";\n",
        "var acceptedResponse = 2;\n",
        "var actualResponse = romanToDecimal(strInput);\n",
        "logResultsInt(\"10: Roman to Decimal\", acceptedResponse, actualResponse);"
      ],
      "execution_count": null,
      "outputs": [
        {
          "output_type": "stream",
          "text": [
            "🔥 Try Again! Expected Integer Value: 10: Roman to Decimal\n",
            "But your code returned Integer Value: 2\n"
          ],
          "name": "stdout"
        }
      ]
    },
    {
      "cell_type": "markdown",
      "metadata": {
        "id": "beARU1v8osRH"
      },
      "source": [
        "[hint 1](https://github.com/RobZuazua/CrashCode/blob/master/Resources/Hints/Strings/q10-hint-1.txt)"
      ]
    },
    {
      "cell_type": "markdown",
      "metadata": {
        "id": "ENswd3WPBijG"
      },
      "source": [
        "### Q11: String Compression"
      ]
    },
    {
      "cell_type": "markdown",
      "metadata": {
        "id": "Z_dvZjDAc9LZ"
      },
      "source": [
        "**Input**\n",
        "\n",
        "Given a string s containing:\n",
        "\n",
        "- upper and lowercase (a-z) ASCII characters\n",
        "\n",
        "**Your task**\n",
        "\n",
        "Write a function that performs a \"basic\" spring compression using counts of repeated characters. If the compressed string is longer than the original string then you should return the original string.\n",
        "\n",
        "**Output**\n",
        "\n",
        "Return the shorter between the compressed string or the original string.\n",
        "\n",
        "**Example 1**\n",
        "\n",
        "1. Input: s = `\"abccddeeeee\"`\n",
        "2. Output: `\"a1b1c2d2e5\"`\n",
        "3. Explanation: `\"a1b1c2d2e5\"` is a shorter string than `\"abccddeeeee\"`. The compressed string is created by counting the number of repeated characters.\n",
        "\n",
        "**Constraints**\n",
        "\n",
        "1. 1 <= s.length <= 10^5\n",
        "2. s[i] may contain an upper or lowercase (a-z) ASCII character.\n"
      ]
    },
    {
      "cell_type": "code",
      "metadata": {
        "id": "HhzJBmVXc9La"
      },
      "source": [
        "// Write your code here\n",
        "var stringCompression = function(s) {\n",
        "  return s;\n",
        "}"
      ],
      "execution_count": null,
      "outputs": []
    },
    {
      "cell_type": "code",
      "metadata": {
        "id": "8lrRN8HYc9Ld",
        "outputId": "efe41711-510a-4194-8a04-1b1ecb1cf981",
        "colab": {
          "base_uri": "https://localhost:8080/",
          "height": 51
        }
      },
      "source": [
        "// Change these values to manually test your program\n",
        "var strInput = \"abccddeeeee\";\n",
        "var acceptedResponse = \"a1b1c2d2e5\";\n",
        "var actualResponse = stringCompression(strInput);\n",
        "logResultsString(acceptedResponse, actualResponse);"
      ],
      "execution_count": null,
      "outputs": [
        {
          "output_type": "stream",
          "text": [
            "🔥 Try Again! Expected String Value: a1b1c2d2e5\n",
            "But your code returned String Value: abccddeeeee\n"
          ],
          "name": "stdout"
        }
      ]
    },
    {
      "cell_type": "markdown",
      "metadata": {
        "id": "3470eZC2owGP"
      },
      "source": [
        "[hint 1](https://github.com/RobZuazua/CrashCode/blob/master/Resources/Hints/Strings/q11-hint-1.txt)"
      ]
    },
    {
      "cell_type": "markdown",
      "metadata": {
        "id": "DsSI4lyUKFHs"
      },
      "source": [
        "## Linked Lists (In Progress)"
      ]
    },
    {
      "cell_type": "markdown",
      "metadata": {
        "id": "K4dnl0ftK8vt"
      },
      "source": [
        "## Stacks and Queues (In Progress)"
      ]
    },
    {
      "cell_type": "markdown",
      "metadata": {
        "id": "R6yuQ2BVLRz2"
      },
      "source": [
        "## Binary Trees (In Progress)"
      ]
    },
    {
      "cell_type": "markdown",
      "metadata": {
        "id": "eD7hcBjlLkY2"
      },
      "source": [
        "## Heaps (In Progress)"
      ]
    },
    {
      "cell_type": "markdown",
      "metadata": {
        "id": "N2dS215qK2nK"
      },
      "source": [
        "## Graphs (In Progress)"
      ]
    },
    {
      "cell_type": "markdown",
      "metadata": {
        "id": "e-_kW2MELqfW"
      },
      "source": [
        "## Hash Tables (In Progress)"
      ]
    },
    {
      "cell_type": "markdown",
      "metadata": {
        "id": "X4Tz8E_oLoSb"
      },
      "source": [
        "## Searching (In Progress)"
      ]
    },
    {
      "cell_type": "markdown",
      "metadata": {
        "id": "5CpPuV68Kyx1"
      },
      "source": [
        "## Sorting (In Progress)"
      ]
    },
    {
      "cell_type": "markdown",
      "metadata": {
        "id": "7eWbLrVzK4kF"
      },
      "source": [
        "## Recursion (In Progress)"
      ]
    },
    {
      "cell_type": "markdown",
      "metadata": {
        "id": "kFzW-xXAK6TG"
      },
      "source": [
        "## Dynamic Programming (In Progress)"
      ]
    },
    {
      "cell_type": "markdown",
      "metadata": {
        "id": "zwpvhrYHQ3bk"
      },
      "source": [
        "# FAQ"
      ]
    },
    {
      "cell_type": "markdown",
      "metadata": {
        "id": "HA7yVH19Xw7B"
      },
      "source": [
        "## How can I master the technical interview?\n"
      ]
    },
    {
      "cell_type": "markdown",
      "metadata": {
        "id": "O-b21zWOX5VF"
      },
      "source": [
        "It comes down to you. Your level of sincerity, seriousness, and understanding."
      ]
    },
    {
      "cell_type": "markdown",
      "metadata": {
        "id": "Ic2pb26cYExC"
      },
      "source": [
        "## What must be understood?"
      ]
    },
    {
      "cell_type": "markdown",
      "metadata": {
        "id": "9HlZH33UYPMW"
      },
      "source": [
        "To master the coding interview, one must:\n",
        "\n",
        "1. Intuitively understand the technical concepts within each category of questions.\n",
        "2. Be a proficient coder.\n",
        "3. Train your perceptions."
      ]
    },
    {
      "cell_type": "markdown",
      "metadata": {
        "id": "Pnzg--qVYcaK"
      },
      "source": [
        "## What are the recurring concepts"
      ]
    },
    {
      "cell_type": "markdown",
      "metadata": {
        "id": "6jO_gtxVYgx7"
      },
      "source": [
        "*   I identify every technical concept for each category of questions from Strings to Dynamic Programming by analayzing every question in the top 4 code prep resources (CTCI, EPI, top 100 Leetcode, and glassdoor.)\n",
        "\n",
        "* See [Part 1](#scrollTo=qTZX2XylbCAd) above for technical concepts\n",
        "\n",
        "* See [Part 2](#scrollTo=QlJsQ5xpRHg5) above for minimum set of questions that test all technical concepts"
      ]
    },
    {
      "cell_type": "markdown",
      "metadata": {
        "id": "vYVfny4UY0Wa"
      },
      "source": [
        "## How do I most effectively understand these concepts?"
      ]
    },
    {
      "cell_type": "markdown",
      "metadata": {
        "id": "qm1nw5nrY6tj"
      },
      "source": [
        "*   To most effectively understand these concepts, you must use each of them to [solve a problem](#scrollTo=QlJsQ5xpRHg5) entirely on your own without using a solution.\n",
        "\n",
        "*   If you get stuck on any question for more than a few minutes, move on and come to my [daily office hours](https://discord.com/channels/748740514672803900/748740515117400066) where I will provide light guidance.\n",
        "\n",
        "*   Additionally each question has a hint that links the question to the concept. You may use the hint and watch the linked [youtube video](https://www.youtube.com/channel/UC4fdhO7egjaKfoJemwD2kIA) to gain understanding of the required concept."
      ]
    },
    {
      "cell_type": "markdown",
      "metadata": {
        "id": "hH8GiIs5Y-S6"
      },
      "source": [
        "## Where else can I find you?"
      ]
    },
    {
      "cell_type": "markdown",
      "metadata": {
        "id": "z3L4RfN2ZDMG"
      },
      "source": [
        "*   Join our discord for FAQ and daily office hours from 5:00pm-5:15pm CST: https://discord.gg/e56GWrU\n",
        "\n",
        "*   Subscribe to our Youtube for more insights: https://www.youtube.com/channel/UC4fdhO7egjaKfoJemwD2kIA\n",
        "\n",
        "*   Subscribe to our mailing list for exclusive content: http://crashcode.training/\n",
        "\n",
        "*   Follow us on Twitter: https://twitter.com/CrashCodeTrain"
      ]
    }
  ]
}