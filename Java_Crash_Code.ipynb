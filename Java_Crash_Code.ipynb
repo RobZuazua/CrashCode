{
  "nbformat": 4,
  "nbformat_minor": 0,
  "metadata": {
    "colab": {
      "name": "Java-Crash-Code.ipynb",
      "provenance": [],
      "collapsed_sections": [],
      "toc_visible": true,
      "include_colab_link": true
    },
    "kernelspec": {
      "name": "java",
      "display_name": "Java"
    }
  },
  "cells": [
    {
      "cell_type": "markdown",
      "metadata": {
        "id": "view-in-github",
        "colab_type": "text"
      },
      "source": [
        "<a href=\"https://colab.research.google.com/github/RobZuazua/CrashCode/blob/master/Java_Crash_Code.ipynb\" target=\"_parent\"><img src=\"https://colab.research.google.com/assets/colab-badge.svg\" alt=\"Open In Colab\"/></a>"
      ]
    },
    {
      "cell_type": "markdown",
      "metadata": {
        "id": "CBWQIvc0Ov3P"
      },
      "source": [
        "# Prepare Java Kernel for Google Colab"
      ]
    },
    {
      "cell_type": "markdown",
      "metadata": {
        "id": "YlrkAFYdGXe4"
      },
      "source": [
        "This notebook is a template to use Java in Google Colaboratory (inspired by [Google Colab Javascript QuickStart](https://dev.to/obenjiro/silence-of-the-fans-part-1-javascript-quickstart-5f3m)). It uses [IJava](https://github.com/SpencerPark/IJava) as the Jupyter Kernel.\n",
        "1. Run the cell bellow (click it and press `Shift`+`Enter`),\n",
        "2. then refresh the page (press `F5`) right after that.\n",
        "\n",
        "Now you can write Java code. See examples in the next section."
      ]
    },
    {
      "cell_type": "code",
      "metadata": {
        "id": "RwIAuN1IKtUo",
        "outputId": "51c68af9-d711-4421-b7aa-fd62c774693a",
        "colab": {
          "base_uri": "https://localhost:8080/",
          "height": 819
        }
      },
      "source": [
        "!apt update -q\n",
        "!apt-get install -q openjdk-11-jdk-headless\n",
        "!curl -L https://github.com/SpencerPark/IJava/releases/download/v1.3.0/ijava-1.3.0.zip -o ijava-kernel.zip\n",
        "!unzip -q ijava-kernel.zip -d ijava-kernel && cd ijava-kernel && python3 install.py --sys-prefix\n",
        "!jupyter kernelspec list"
      ],
      "execution_count": null,
      "outputs": [
        {
          "output_type": "stream",
          "text": [
            "Ign:1 https://developer.download.nvidia.com/compute/cuda/repos/ubuntu1804/x86_64  InRelease\n",
            "Ign:2 https://developer.download.nvidia.com/compute/machine-learning/repos/ubuntu1804/x86_64  InRelease\n",
            "Get:3 http://security.ubuntu.com/ubuntu bionic-security InRelease [88.7 kB]\n",
            "Get:4 https://developer.download.nvidia.com/compute/cuda/repos/ubuntu1804/x86_64  Release [697 B]\n",
            "Get:5 https://developer.download.nvidia.com/compute/machine-learning/repos/ubuntu1804/x86_64  Release [564 B]\n",
            "Get:6 https://developer.download.nvidia.com/compute/cuda/repos/ubuntu1804/x86_64  Release.gpg [836 B]\n",
            "Get:7 https://developer.download.nvidia.com/compute/machine-learning/repos/ubuntu1804/x86_64  Release.gpg [833 B]\n",
            "Hit:8 http://archive.ubuntu.com/ubuntu bionic InRelease\n",
            "Hit:9 http://ppa.launchpad.net/graphics-drivers/ppa/ubuntu bionic InRelease\n",
            "Get:10 http://archive.ubuntu.com/ubuntu bionic-updates InRelease [88.7 kB]\n",
            "Ign:11 https://developer.download.nvidia.com/compute/cuda/repos/ubuntu1804/x86_64  Packages\n",
            "Get:11 https://developer.download.nvidia.com/compute/cuda/repos/ubuntu1804/x86_64  Packages [306 kB]\n",
            "Get:12 http://ppa.launchpad.net/marutter/c2d4u3.5/ubuntu bionic InRelease [15.4 kB]\n",
            "Get:13 https://developer.download.nvidia.com/compute/machine-learning/repos/ubuntu1804/x86_64  Packages [47.9 kB]\n",
            "Get:14 http://archive.ubuntu.com/ubuntu bionic-backports InRelease [74.6 kB]\n",
            "Get:15 http://security.ubuntu.com/ubuntu bionic-security/main amd64 Packages [1,115 kB]\n",
            "Get:16 https://cloud.r-project.org/bin/linux/ubuntu bionic-cran35/ InRelease [3,626 B]\n",
            "Get:17 http://security.ubuntu.com/ubuntu bionic-security/universe amd64 Packages [908 kB]\n",
            "Get:18 http://ppa.launchpad.net/marutter/c2d4u3.5/ubuntu bionic/main Sources [1,879 kB]\n",
            "Get:19 http://security.ubuntu.com/ubuntu bionic-security/restricted amd64 Packages [126 kB]\n",
            "Get:20 http://archive.ubuntu.com/ubuntu bionic-updates/multiverse amd64 Packages [33.9 kB]\n",
            "Get:21 http://archive.ubuntu.com/ubuntu bionic-updates/main amd64 Packages [1,406 kB]\n",
            "Get:22 http://archive.ubuntu.com/ubuntu bionic-updates/restricted amd64 Packages [146 kB]\n",
            "Get:23 http://archive.ubuntu.com/ubuntu bionic-updates/universe amd64 Packages [1,435 kB]\n",
            "Get:24 http://ppa.launchpad.net/marutter/c2d4u3.5/ubuntu bionic/main amd64 Packages [907 kB]\n",
            "Fetched 8,583 kB in 4s (2,122 kB/s)\n",
            "Reading package lists...\n",
            "Building dependency tree...\n",
            "Reading state information...\n",
            "53 packages can be upgraded. Run 'apt list --upgradable' to see them.\n",
            "Reading package lists...\n",
            "Building dependency tree...\n",
            "Reading state information...\n",
            "openjdk-11-jdk-headless is already the newest version (11.0.8+10-0ubuntu1~18.04.1).\n",
            "0 upgraded, 0 newly installed, 0 to remove and 53 not upgraded.\n",
            "  % Total    % Received % Xferd  Average Speed   Time    Time     Time  Current\n",
            "                                 Dload  Upload   Total   Spent    Left  Speed\n",
            "100   641  100   641    0     0   3356      0 --:--:-- --:--:-- --:--:--  3356\n",
            "100 3287k  100 3287k    0     0  3182k      0  0:00:01  0:00:01 --:--:-- 5226k\n",
            "Installed java kernel into \"/usr/share/jupyter/kernels/java\"\n",
            "Available kernels:\n",
            "  ir         /usr/local/share/jupyter/kernels/ir\n",
            "  python2    /usr/local/share/jupyter/kernels/python2\n",
            "  python3    /usr/local/share/jupyter/kernels/python3\n",
            "  swift      /usr/local/share/jupyter/kernels/swift\n",
            "  java       /usr/share/jupyter/kernels/java\n"
          ],
          "name": "stdout"
        }
      ]
    },
    {
      "cell_type": "code",
      "metadata": {
        "id": "Wk-qGdcYE3Nt",
        "outputId": "8bdfae0e-75eb-41e8-8af9-cef231b57853",
        "colab": {
          "base_uri": "https://localhost:8080/",
          "height": 34
        }
      },
      "source": [
        "System.out.println(\"Hello World\");"
      ],
      "execution_count": null,
      "outputs": [
        {
          "output_type": "stream",
          "text": [
            "Hello World\n"
          ],
          "name": "stdout"
        }
      ]
    },
    {
      "cell_type": "markdown",
      "metadata": {
        "id": "Uo8CBM9y0TFp"
      },
      "source": [
        "# How It Works"
      ]
    },
    {
      "cell_type": "markdown",
      "metadata": {
        "id": "UpnwP7ef0wwR"
      },
      "source": [
        "**Q: What is Crash Code?** \n",
        "\n",
        "A training program for mastering the technical coding interview."
      ]
    },
    {
      "cell_type": "markdown",
      "metadata": {
        "id": "bDa3jRzKPb5P"
      },
      "source": [
        "**Q: How do I use Crash Code?**\n",
        "\n",
        "1. **Understand the value:** I clearly identify the [underlying technical concepts](https://colab.research.google.com/drive/1slnnZJAtSyAqJbqF5IMBht8zNJxm8mN4#scrollTo=qTZX2XylbCAd) for each category of questions from Strings to Dynamic Programming. \n",
        "\n",
        "2. **Understand the training:** You learn these underyling technical concepts most effectively by using each one of them to [solve a question](https://colab.research.google.com/drive/1slnnZJAtSyAqJbqF5IMBht8zNJxm8mN4#scrollTo=QlJsQ5xpRHg5) without using a solution.\n",
        "\n",
        "3. **Understand the why:** Inutitive understanding of the underyling technical concepts is the most effective way to master the technical coding interview.\n",
        "\n"
      ]
    },
    {
      "cell_type": "markdown",
      "metadata": {
        "id": "1V2XmovMW4Kc"
      },
      "source": [
        "**Q: What is Crash Code really about?**\n",
        "\n",
        "1. Understanding. Understanding. Understanding.\n",
        "\n",
        "2. Searching for the technical interviewing **truths** that result in crystal-clear clarity and improved performance."
      ]
    },
    {
      "cell_type": "markdown",
      "metadata": {
        "id": "qTZX2XylbCAd"
      },
      "source": [
        "# Part 1: Technical Concepts "
      ]
    },
    {
      "cell_type": "markdown",
      "metadata": {
        "id": "AtoGZlcKXWHR"
      },
      "source": [
        "I identify the technical concepts by analyzing every question in the books *Cracking the Coding Interview*, *Elements  of the Programming Interview*, the top 100 most frequently asked questions on Leetcode, and Glassdoor. "
      ]
    },
    {
      "cell_type": "markdown",
      "metadata": {
        "id": "PgeIILSs4rLj"
      },
      "source": [
        "Therefore, you can focus on the core, fundamental, underlying concepts within each category of questions."
      ]
    },
    {
      "cell_type": "markdown",
      "metadata": {
        "id": "pUOC5nH5-0tY"
      },
      "source": [
        "## Strings"
      ]
    },
    {
      "cell_type": "markdown",
      "metadata": {
        "id": "9MQcjsoPdHPG"
      },
      "source": [
        "[Full Analysis of every String question in CTCI, EPI, Leetcode.](https://github.com/RobZuazua/CrashCode/blob/master/src/category_strings/README.md)"
      ]
    },
    {
      "cell_type": "markdown",
      "metadata": {
        "id": "ks5_Wb1tkl2L"
      },
      "source": [
        "**Summary of analysis:** There are 7 concepts that can be used to solve the vast majority of String  questions."
      ]
    },
    {
      "cell_type": "code",
      "metadata": {
        "id": "Gm_TijHValMA"
      },
      "source": [
        "/*\n",
        "1. Linear Time String Matching (Rabin Karp)\n",
        "2. Sliding Window (Fast/Slow, Fast/Catch Up)\n",
        "3. Two Pass\n",
        "4. Pre-fixing (Pre-sort, Pre-reverse, Pre-double)\n",
        "5. Work Backwards\n",
        "6. Two Pointer\n",
        "7. Additional Storage (Arrays, BitVectors)\n",
        "*/"
      ],
      "execution_count": null,
      "outputs": []
    },
    {
      "cell_type": "markdown",
      "metadata": {
        "id": "4sBCfAD0IDBp"
      },
      "source": [
        "[Watch an overview of these 7 technical concepts on youtube.](https://www.youtube.com/watch?v=vFOIDvTkzBs)"
      ]
    },
    {
      "cell_type": "markdown",
      "metadata": {
        "id": "Fw0OB8aA5BQu"
      },
      "source": [
        "To intuitively learn these concepts, [you must use each one to solve a question.](https://colab.research.google.com/drive/1slnnZJAtSyAqJbqF5IMBht8zNJxm8mN4#scrollTo=QlJsQ5xpRHg5) "
      ]
    },
    {
      "cell_type": "markdown",
      "metadata": {
        "id": "C_iLOQtI_Ahe"
      },
      "source": [
        "## Linked Lists (In Progress)"
      ]
    },
    {
      "cell_type": "markdown",
      "metadata": {
        "id": "JrO6WCD1_RNT"
      },
      "source": [
        "## Stacks and Queues (In Progress)"
      ]
    },
    {
      "cell_type": "markdown",
      "metadata": {
        "id": "89YgG2eY_ZKz"
      },
      "source": [
        "## Binary Trees (In Progress)"
      ]
    },
    {
      "cell_type": "markdown",
      "metadata": {
        "id": "nrjhZAaI_nXC"
      },
      "source": [
        "## Heaps (In Progress)"
      ]
    },
    {
      "cell_type": "markdown",
      "metadata": {
        "id": "7ZlF9-EA_pPV"
      },
      "source": [
        "## Graphs (In Progress)"
      ]
    },
    {
      "cell_type": "markdown",
      "metadata": {
        "id": "FHPEm4g2_rKx"
      },
      "source": [
        "## Hash Tables (In Progress)"
      ]
    },
    {
      "cell_type": "markdown",
      "metadata": {
        "id": "HaqBkO84_ulS"
      },
      "source": [
        "## Searching (In Progress)"
      ]
    },
    {
      "cell_type": "markdown",
      "metadata": {
        "id": "2o2-C1_q_wTD"
      },
      "source": [
        "## Sorting (In Progress)"
      ]
    },
    {
      "cell_type": "markdown",
      "metadata": {
        "id": "hV1XAT33_yIi"
      },
      "source": [
        "## Recursion (In Progress)"
      ]
    },
    {
      "cell_type": "markdown",
      "metadata": {
        "id": "lzoTBHVU_zvo"
      },
      "source": [
        "## Dynamic Programming (In Progress)"
      ]
    },
    {
      "cell_type": "markdown",
      "metadata": {
        "id": "8Mw1AshM_Gl2"
      },
      "source": [
        ""
      ]
    },
    {
      "cell_type": "markdown",
      "metadata": {
        "id": "QlJsQ5xpRHg5"
      },
      "source": [
        "# Part 2: Coding Questions"
      ]
    },
    {
      "cell_type": "markdown",
      "metadata": {
        "id": "HTpZJoO5lxPm"
      },
      "source": [
        "The most effective way to learn the technical concepts is to use them to solve a question entirely on your own."
      ]
    },
    {
      "cell_type": "markdown",
      "metadata": {
        "id": "OuU5mvPlOGF9"
      },
      "source": [
        "Included below are the **minimum set of questions that cover all concepts**."
      ]
    },
    {
      "cell_type": "markdown",
      "metadata": {
        "id": "EvusZCFJR7Q1"
      },
      "source": [
        "## 1 Click Setup"
      ]
    },
    {
      "cell_type": "code",
      "metadata": {
        "id": "oDJeO4CLSCdd"
      },
      "source": [
        "import java.util.Set;\n",
        "\n",
        "public class LogUtil {\n",
        "  /**\n",
        "    * A helper method to log test results\n",
        "    * @param question - identifier to log current question\n",
        "    * @param expectedResponse - response expected by your program\n",
        "    * @param actualResponse - response returned by your program\n",
        "    */\n",
        "  public static void logResults(final int expectedResponse, final int actualResponse) {\n",
        "      if (actualResponse == expectedResponse) {\n",
        "          System.out.println(\"✅ PASS! Integer Value = \" + actualResponse);\n",
        "      } else {\n",
        "          System.out.println(\"🔥 Try Again! Expected Integer Value: \" + expectedResponse + \"\\n\" + \"But your code returned Integer Value: \" + actualResponse);\n",
        "      }\n",
        "  }\n",
        "\n",
        "  /**\n",
        "    * A helper method to log test results\n",
        "    * @param question - identifier to log current question\n",
        "    * @param expectedResponse - response expected by your program\n",
        "    * @param actualResponse - response returned by your program\n",
        "    */\n",
        "  public static void logResults(final String expectedResponse, final String actualResponse) {\n",
        "      if (expectedResponse.equals(actualResponse)) {\n",
        "          System.out.println(\"✅ PASS! String Value = \" + actualResponse);\n",
        "      } else {\n",
        "          System.out.println(\"🔥 Try Again! Expected String Value: \" + expectedResponse + \"\\n\" + \"But your code returned String Value: \" + actualResponse);\n",
        "      }\n",
        "  }\n",
        "\n",
        "  /**\n",
        "    * A helper method to log test results\n",
        "    * @param question - identifier to log current question\n",
        "    * @param expectedResponse - response expected by your program\n",
        "    * @param actualResponse - response returned by your program\n",
        "    */\n",
        "  public static void logResults(final boolean expectedResponse, final boolean actualResponse) {\n",
        "      if (expectedResponse == actualResponse) {\n",
        "          System.out.println(\"✅ PASS! Boolean Value = \" + actualResponse);\n",
        "      } else {\n",
        "          System.out.println(\"🔥 Try Again! Expected Boolean Value: \" + expectedResponse + \"\\n\" + \"But your code returned Boolean Value: \" + actualResponse);\n",
        "      }\n",
        "  }\n",
        "\n",
        "  /**\n",
        "    * A helper method to log test results     \n",
        "    * @param question - identifier to log current question\n",
        "    * @param acceptedResponses - response expected by your program\n",
        "    * @param actualResponse - response returned by your program\n",
        "    */\n",
        "  public static void logResults(final Set<String> acceptedResponses, final String actualResponse) {\n",
        "      if (acceptedResponses.contains(actualResponse)) {\n",
        "          System.out.println(\"✅ PASS! String Value = \" + actualResponse);\n",
        "      } else {\n",
        "          System.out.println(\"🔥 Try Again! Expected String Value in: \" + acceptedResponses.toString() + \"\\n\" + \"But your code returned String Value: \" + actualResponse);\n",
        "      }\n",
        "  }\n",
        "}"
      ],
      "execution_count": 29,
      "outputs": []
    },
    {
      "cell_type": "markdown",
      "metadata": {
        "id": "CHweop7K0cfJ"
      },
      "source": [
        "## Strings"
      ]
    },
    {
      "cell_type": "markdown",
      "metadata": {
        "id": "4N87nAxtKdzX"
      },
      "source": [
        "### Q1: Make Parenthesis Valid"
      ]
    },
    {
      "cell_type": "markdown",
      "metadata": {
        "id": "kdhLqofYQrG7"
      },
      "source": [
        "**Remove Minimum Number of Parenthesis to Make Valid**\n",
        "\n",
        "Given a string s containing:\n",
        "\n",
        "- `'('`\n",
        "- `')'`\n",
        "- other ASCII characters\n",
        "\n",
        "**Your task**\n",
        "\n",
        "Remove the minimum number of parentheses so that the resulting parenthesis string is valid\n",
        "\n",
        "**Output**\n",
        "\n",
        "Return ***any*** valid string. There may be more than 1 solution.\n",
        "\n",
        "A parentheses string is valid if:\n",
        "\n",
        "- It is the empty string\n",
        "- It contains only lowercase characters\n",
        "- Every open parenthesis `'('` has a closing parentheis `')'` after it AND every closing parenthesis `')'` has an opening parenthesis `'('` before it\n",
        "\n",
        "**Example 1**\n",
        "\n",
        "1. Input: s = `\"y(e(e(h))a)w)\"`\n",
        "2. Output: `\"y(e(e(h))a)w\"`\n",
        "3. Explanation: `\"y(e(e(h)a)w)\"` , `\"y(e(e(h))aw)\"` would also be accepted.\n",
        "\n",
        "**Example 2**\n",
        "\n",
        "1. Input: s = `\")ca(5)h\"`\n",
        "2. Output: `\"ca(5)h\"`\n",
        "\n",
        "**Example 3**\n",
        "\n",
        "1. Input: s = `\")))))((\"`\n",
        "2. Output: `\"\"`\n",
        "3. Explanation: An empty string is valid.\n",
        "\n",
        "**Example 4**\n",
        "\n",
        "1. Input: s = `\"(c(o(D)3)\"`\n",
        "2. Output: `\"c(o(D)3)\"`\n",
        "3. Explanation: `\"(co(D)3)\"` , `\"(c(oD)3)\"` would also be accepted.\n",
        "\n",
        "**Example 5**\n",
        "\n",
        "1. 1 <= s.length <= 10^5\n",
        "2. s[i] may contain  `'('` , `')'` or any other ASCII character.\n"
      ]
    },
    {
      "cell_type": "code",
      "metadata": {
        "id": "qV3nHbQgRPE0"
      },
      "source": [
        "// Write your code here\n",
        "public static String makeParenthesisValid(String s) {\n",
        "  return s;\n",
        "}"
      ],
      "execution_count": 19,
      "outputs": []
    },
    {
      "cell_type": "code",
      "metadata": {
        "id": "7eFmda-RRWI6",
        "outputId": "ca51aff0-18b3-4596-a2a4-6fc8a7f768e5",
        "colab": {
          "base_uri": "https://localhost:8080/",
          "height": 51
        }
      },
      "source": [
        "import java.util.HashSet;\n",
        "import java.util.Set;\n",
        "import java.util.stream.Collectors;\n",
        "import java.util.stream.Stream;\n",
        "\n",
        "// Change these values to manually test your program\n",
        "final String input = \"y(e(e(h))a)w)\";\n",
        "final Set<String> acceptedResponses = Stream.of(\"y(e(e(h))a)w\", \"y(e(e(h)a)w)\", \"y(e(e(h))aw)\")\n",
        ".collect(Collectors.toCollection(HashSet::new));\n",
        "final String actualResponse = makeParenthesisValid(input);\n",
        "LogUtil.logResults(acceptedResponses, actualResponse);"
      ],
      "execution_count": 33,
      "outputs": [
        {
          "output_type": "stream",
          "text": [
            "🔥 Try Again! Expected String Value in: [y(e(e(h)a)w), y(e(e(h))a)w, y(e(e(h))aw)]\n",
            "But your code returned String Value: y(e(e(h))a)w)\n"
          ],
          "name": "stdout"
        }
      ]
    },
    {
      "cell_type": "markdown",
      "metadata": {
        "id": "wjFk-h33ewS8"
      },
      "source": [
        "### Q2: Is Palindrome"
      ]
    },
    {
      "cell_type": "markdown",
      "metadata": {
        "id": "aLLTbulxczKB"
      },
      "source": [
        "**Input**\n",
        "\n",
        "Given a string s containing:\n",
        "\n",
        "- Unicode characters\n",
        "\n",
        "**Your task**\n",
        "\n",
        "Determine if the string reads the same forwards and backwards after you remove all non-alphanumeric characters. This function should be case sensitive.\n",
        "\n",
        "**Output**\n",
        "\n",
        "Return a boolean value. An empty string is a valid palindrome.\n",
        "\n",
        "**Example 1**\n",
        "\n",
        "1. Input: s = `\"civic\"`\n",
        "2. Output: `true`\n",
        "3. Explanation: `\"civic\"` reads the same forwards and backwards.\n",
        "\n",
        "**Example 2**\n",
        "\n",
        "1. Input: s = `\"Hannah\"`\n",
        "2. Output: `false`\n",
        "3. Explanation: This function should be case sensitive. `\"Hannah\"` != `\"hannaH\"`\n",
        "\n",
        "**Example 3**\n",
        "\n",
        "1. Input: s = `\"a, ka, ya-k..a\"`\n",
        "2. Output: `true`\n",
        "3. Explanation: When you remove all non-alphanumeric characters, `\"akayaka\"` reads the same forwards and backwards.\n",
        "\n",
        "**Constraints**\n",
        "\n",
        "1. 1 <= s.length <= 10^5\n",
        "2. s[i] may contain any Unicode character.\n"
      ]
    },
    {
      "cell_type": "code",
      "metadata": {
        "id": "pgBhVAy-czZu"
      },
      "source": [
        "# Write your code here \n",
        "def is_palindrome(s: str) -> bool:\n",
        "  return s == \"Cattywampus\";\n"
      ],
      "execution_count": null,
      "outputs": []
    },
    {
      "cell_type": "code",
      "metadata": {
        "id": "rK2azp2oczok",
        "outputId": "a9751679-c093-419a-c19b-b2454e218b71",
        "colab": {
          "base_uri": "https://localhost:8080/",
          "height": 68
        }
      },
      "source": [
        "# Change these values to manually test your program\n",
        "str_input = \"a, ka, ya-k..a\";\n",
        "accepted_response = True\n",
        "actual_response = is_palindrome(str_input);\n",
        "log_results_bool(accepted_response, actual_response);"
      ],
      "execution_count": null,
      "outputs": [
        {
          "output_type": "stream",
          "text": [
            "🔥 Try Again! Expected Bool Value: True\n",
            "But your code returned Bool Value: False\n",
            "\n"
          ],
          "name": "stdout"
        }
      ]
    },
    {
      "cell_type": "markdown",
      "metadata": {
        "id": "bIdjzrzyexTb"
      },
      "source": [
        "### Q3: Is Only Unique Characters"
      ]
    },
    {
      "cell_type": "markdown",
      "metadata": {
        "id": "VDyv4kMAc0b6"
      },
      "source": [
        "**Input**\n",
        "\n",
        "Given a string s containing:\n",
        "\n",
        "- any ASCII characters\n",
        "\n",
        "**Your task**\n",
        "\n",
        "Determine if the string contains all unique characters. This function is case sensitive.\n",
        "\n",
        "**Output**\n",
        "\n",
        "Return a boolean value. An empty string should return `true`.\n",
        "\n",
        "**Example 1**\n",
        "\n",
        "1. Input: s = `\"Cattywampus\"`\n",
        "2. Output: `false`\n",
        "3. Explanation: The character `t` occurs more than once\n",
        "\n",
        "**Example 2**\n",
        "\n",
        "1. Input: s = `\"Fard\"`\n",
        "2. Output: `true`\n",
        "3. Every character is unique\n",
        "\n",
        "**Example 3**\n",
        "\n",
        "1. Input: s = `\")(Ff\"`\n",
        "2. Output: `true`\n",
        "3. Explanation: Every character is unique\n",
        "\n",
        "**Constraints**\n",
        "\n",
        "1. 1 <= s.length <= 10^5\n",
        "2. s[i] may contain any other ASCII character.\n"
      ]
    },
    {
      "cell_type": "code",
      "metadata": {
        "id": "EHqVqd6Vc0pB"
      },
      "source": [
        "# Write your code here \n",
        "def is_only_unique_characters(s: str) -> bool:\n",
        "  return s == \"Cattywampus\";\n"
      ],
      "execution_count": null,
      "outputs": []
    },
    {
      "cell_type": "code",
      "metadata": {
        "id": "bmLbooFPc00n",
        "outputId": "fc43c373-c3bf-4ccf-a4e3-16391223d3e0",
        "colab": {
          "base_uri": "https://localhost:8080/",
          "height": 68
        }
      },
      "source": [
        "# Change these values to manually test your program\n",
        "str_input = \"Cattywampus\";\n",
        "accepted_response = False\n",
        "actual_response = is_only_unique_characters(str_input);\n",
        "log_results_bool(accepted_response, actual_response);"
      ],
      "execution_count": null,
      "outputs": [
        {
          "output_type": "stream",
          "text": [
            "🔥 Try Again! Expected Bool Value: False\n",
            "But your code returned Bool Value: True\n",
            "\n"
          ],
          "name": "stdout"
        }
      ]
    },
    {
      "cell_type": "markdown",
      "metadata": {
        "id": "ct_dsa4QeyBl"
      },
      "source": [
        "### Q4: Is Palindrome Permutation"
      ]
    },
    {
      "cell_type": "markdown",
      "metadata": {
        "id": "nm4Ee_Ixc2zQ"
      },
      "source": [
        "**Input**\n",
        "\n",
        "Given a string s containing:\n",
        "\n",
        "- Alphanumeric ASCII characters\n",
        "\n",
        "**Your task**\n",
        "\n",
        "Determine if the input string is or could be turned into a palindrome by reordering characters. This function only needs to take alphanumeric characters into account and case does not matter.\n",
        "\n",
        "**Output**\n",
        "\n",
        "Return a boolean value.\n",
        "\n",
        "A string is a palindrome if:\n",
        "\n",
        "- It is the empty string\n",
        "- The string reads the same forwards and backwards after you remove all non-alphanumeric characters.\n",
        "\n",
        "**Example 1**\n",
        "\n",
        "1. Input: s = `\"Car e car\"`\n",
        "2. Output: `true`\n",
        "3. Explanation: `\"racecar\"` is a palindrome.\n",
        "\n",
        "**Example 2**\n",
        "\n",
        "1. Input: s = `\"\"`\n",
        "2. Output: `true`\n",
        "3. Explanation: The empty string is a palindrome.\n",
        "\n",
        "**Example 3**\n",
        "\n",
        "1. Input: s = `\"tacocats\"`\n",
        "2. Output: `false`\n",
        "3. Explanation: There is no palindrome.\n",
        "\n",
        "**Constraints**\n",
        "\n",
        "1. 1 <= s.length <= 10^5"
      ]
    },
    {
      "cell_type": "code",
      "metadata": {
        "id": "hWJU4uRRc2zR"
      },
      "source": [
        "# Write your code here \n",
        "def is_palindrome_permutation(s: str) -> bool:\n",
        "  return s == \"Car e car\";"
      ],
      "execution_count": null,
      "outputs": []
    },
    {
      "cell_type": "code",
      "metadata": {
        "id": "_fVBs2cDc2zU",
        "outputId": "c513a8f2-2009-47d6-f362-fda692ce62df",
        "colab": {
          "base_uri": "https://localhost:8080/",
          "height": 51
        }
      },
      "source": [
        "# Change these values to manually test your program\n",
        "str_input = \"Car e car\";\n",
        "accepted_response = True\n",
        "actual_response = is_palindrome_permutation(str_input);\n",
        "log_results_bool(accepted_response, actual_response);"
      ],
      "execution_count": null,
      "outputs": [
        {
          "output_type": "stream",
          "text": [
            "✅ PASS! Bool Value = True\n",
            "\n"
          ],
          "name": "stdout"
        }
      ]
    },
    {
      "cell_type": "markdown",
      "metadata": {
        "id": "0-ZP_KGeeyqa"
      },
      "source": [
        "### Q5: Is Permutation"
      ]
    },
    {
      "cell_type": "markdown",
      "metadata": {
        "id": "bayWnBlec3hk"
      },
      "source": [
        "**Input**\n",
        "\n",
        "Given two strings s and t containing:\n",
        "\n",
        "- any ASCII characters\n",
        "\n",
        "**Your task**\n",
        "\n",
        "Determine if one string is a permutation of the other. Not case sensitive.\n",
        "\n",
        "**Output**\n",
        "\n",
        "Return a boolean value.\n",
        "\n",
        "**Example 1**\n",
        "\n",
        "1. Input: s = `\"Avery likes Shaun\"` t = `\"shaun likes avery\"`\n",
        "2. Output: `true`\n",
        "3. Explanation: `\"Avery likes Shaun\"` is a permutation of `\"shaun likes avery\"`.\n",
        "\n",
        "**Example 2**\n",
        "\n",
        "1. Input: s = `\"tea\"` t = `\"tea party\"`\n",
        "2. Output: `false`\n",
        "3. Explanation: Strings of different lengths cannot be permutations of each other.\n",
        "\n",
        "**Constraints**\n",
        "\n",
        "1. 1 <= s.length <= 10^5\n",
        "2. 1 <= t.length <= 10^5\n",
        "3. s[i] and t[i] may contain any ASCII character.\n"
      ]
    },
    {
      "cell_type": "code",
      "metadata": {
        "id": "7OK61Mqwc3hl"
      },
      "source": [
        "# Write your code here \n",
        "def is_permutation(s: str, t: str) -> bool:\n",
        "  return s == t;"
      ],
      "execution_count": null,
      "outputs": []
    },
    {
      "cell_type": "code",
      "metadata": {
        "id": "ii6hZvXMc3hn",
        "outputId": "d22ecdc3-24b7-440e-c589-baeedbbb4a84",
        "colab": {
          "base_uri": "https://localhost:8080/",
          "height": 68
        }
      },
      "source": [
        "# Change these values to manually test your program\n",
        "str_input1 = \"Avery likes Shaun\";\n",
        "str_input2 = \"shaun likes avery\";\n",
        "accepted_response = True;\n",
        "actual_response = is_permutation(str_input1, str_input2);\n",
        "log_results_bool(accepted_response, actual_response);"
      ],
      "execution_count": null,
      "outputs": [
        {
          "output_type": "stream",
          "text": [
            "🔥 Try Again! Expected Bool Value: True\n",
            "But your code returned Bool Value: False\n",
            "\n"
          ],
          "name": "stdout"
        }
      ]
    },
    {
      "cell_type": "markdown",
      "metadata": {
        "id": "a7cG1H_CezBR"
      },
      "source": [
        "### Q6: Reverse Word Ordering"
      ]
    },
    {
      "cell_type": "markdown",
      "metadata": {
        "id": "kzcVwBUqc6s8"
      },
      "source": [
        "**Input**\n",
        "\n",
        "Given a string s containing\n",
        "\n",
        "- alphnumeric characters\n",
        "- whitespace\n",
        "\n",
        "**Your task**\n",
        "\n",
        "Reverse all the words such that the words appear in reverse order. Trim Whitespace.\n",
        "\n",
        "**Output**\n",
        "\n",
        "Return a string.\n",
        "\n",
        "**Example 1**\n",
        "\n",
        "1. Input: s = `\"rob likes code\"`\n",
        "2. Output: `\"code likes rob\"`\n",
        "3. Explanation: String is reversed word by word.\n",
        "\n",
        "**Example 2**\n",
        "\n",
        "1. Input: s = `\"  Race car \"`\n",
        "2. Output: `\"car Race\"`\n",
        "3. Explanation: Whitespace is trimmed.\n",
        "\n",
        "**Example 3**\n",
        "\n",
        "1. Input: s = `\"sandy   beach\"`\n",
        "2. Output: `\"beach sandy\"`\n",
        "3. Explanation: Whitespace in between words is trimmed.\n",
        "\n",
        "**Constraints**\n",
        "\n",
        "1. 1 <= s.length <= 10^5\n",
        "2. s[i] may contain any alphanumeric characters or whitespace.\n"
      ]
    },
    {
      "cell_type": "code",
      "metadata": {
        "id": "1n8wbeHoc6s9"
      },
      "source": [
        "# Write your code here\n",
        "def reverse_word_ordering(s: str) -> str:\n",
        "  return s;"
      ],
      "execution_count": null,
      "outputs": []
    },
    {
      "cell_type": "code",
      "metadata": {
        "id": "ttoy7yj9c6s_",
        "outputId": "50ed7910-b6d6-4126-b787-d9c83c707079",
        "colab": {
          "base_uri": "https://localhost:8080/",
          "height": 68
        }
      },
      "source": [
        "# Change these values to manually test your program\n",
        "str_input = \"rob likes code\";\n",
        "accepted_response = \"code likes rob\"\n",
        "actual_response = reverse_word_ordering(str_input);\n",
        "log_results(accepted_response, actual_response);"
      ],
      "execution_count": null,
      "outputs": [
        {
          "output_type": "stream",
          "text": [
            "🔥 Try Again! Expected String Value: code likes rob\n",
            "But your code returned String Value: rob likes code\n",
            "\n"
          ],
          "name": "stdout"
        }
      ]
    },
    {
      "cell_type": "markdown",
      "metadata": {
        "id": "C5Q4UqxnezkI"
      },
      "source": [
        "### Q7: Find First Substring"
      ]
    },
    {
      "cell_type": "markdown",
      "metadata": {
        "id": "1iW-wYlec7Si"
      },
      "source": [
        "**Input**\n",
        "\n",
        "Given two strings s (search string) and t (block of text) containing:\n",
        "\n",
        "- any ASCII characters\n",
        "\n",
        "**Your task**\n",
        "\n",
        "Determine the position of the first occurence of s in t.\n",
        "\n",
        "**Output**\n",
        "\n",
        "Return an integer representing the position of the first occurence of the substring s in t.\n",
        "\n",
        "**Example 1**\n",
        "\n",
        "1. Input: s = `\"dog\"` t = `\"a cat and dog ran through the yard chasing a dog\"`\n",
        "2. Output: `10`\n",
        "3. Explanation: `10` is the position of the first occurence of the search string in the block of text.\n",
        "\n",
        "**Example 2**\n",
        "\n",
        "1. Input: s = `\"yes\"` t = `\"yes and no\"`\n",
        "2. Output: `0`\n",
        "3. Explanation: `0` is the position of the first occurence of the search string in the block of text.\n",
        "\n",
        "**Constraints**\n",
        "\n",
        "1. 1 <= s.length <= t.length <= 10^5\n",
        "2. s[i] and t[i] may contain any ASCII character.\n"
      ]
    },
    {
      "cell_type": "code",
      "metadata": {
        "id": "GuUc1rk1c7Sj"
      },
      "source": [
        "# Write your code here\n",
        "def find_first_substring(s: str, t: str) -> int:\n",
        "  return 10;"
      ],
      "execution_count": null,
      "outputs": []
    },
    {
      "cell_type": "code",
      "metadata": {
        "id": "qyb8MPxnc7Sl",
        "outputId": "c4b5646f-3d51-43ae-83a6-e8d955361b65",
        "colab": {
          "base_uri": "https://localhost:8080/",
          "height": 51
        }
      },
      "source": [
        "# Change these values to manually test your program\n",
        "str_input1 = \"dog\";\n",
        "str_input2 = \"a cat and dog ran through the yard chasing a dog\";\n",
        "accepted_response = 10;\n",
        "actual_response = find_first_substring(str_input1, str_input2);\n",
        "log_results_int(accepted_response, actual_response);"
      ],
      "execution_count": null,
      "outputs": [
        {
          "output_type": "stream",
          "text": [
            "✅ PASS! Integer Value = 10\n",
            "\n"
          ],
          "name": "stdout"
        }
      ]
    },
    {
      "cell_type": "markdown",
      "metadata": {
        "id": "rMCErEx8BShU"
      },
      "source": [
        "### Q8: Longest Substring No Repeats"
      ]
    },
    {
      "cell_type": "markdown",
      "metadata": {
        "id": "0PQARkfZc7vR"
      },
      "source": [
        "**Input**\n",
        "\n",
        "Given a string s containing:\n",
        "\n",
        "- any ASCII characters\n",
        "\n",
        "**Your task**\n",
        "\n",
        "Determine the length of the longest substring without any repeating characters.\n",
        "\n",
        "**Output**\n",
        "\n",
        "Return the length of the longest substring without any repeating characters.\n",
        "\n",
        "**Example 1**\n",
        "\n",
        "1. Input: s = `\"aabcc\"`\n",
        "2. Output: `3`\n",
        "3. Explanation: `\"abc\"` is the longest substring without any repeating characters.\n",
        "\n",
        "**Example 2**\n",
        "\n",
        "1. Input: s = `\"222\"`\n",
        "2. Output: `1`\n",
        "3. Explanation: `\"2\"` is the longest substring without any repeating characters.\n",
        "\n",
        "**Example 3**\n",
        "\n",
        "1. Input: s = `\")))))((\"`\n",
        "2. Output: `2`\n",
        "3. Explanation: `\")(\"` is the longest substring without any repeating characters.\n",
        "\n",
        "**Constraints**\n",
        "\n",
        "1. 1 <= s.length <= 10^5\n",
        "2. s[i] may contain any ASCII character.\n"
      ]
    },
    {
      "cell_type": "code",
      "metadata": {
        "id": "nFlT5bb3c7vS"
      },
      "source": [
        "# Write your code here\n",
        "def longest_substring_no_repeats(s: str) -> str:\n",
        "  return 10;"
      ],
      "execution_count": null,
      "outputs": []
    },
    {
      "cell_type": "code",
      "metadata": {
        "id": "jpUOJnZnc7vU",
        "outputId": "01eff2e4-9a3b-4643-c0c4-1fe3b9be4148",
        "colab": {
          "base_uri": "https://localhost:8080/",
          "height": 68
        }
      },
      "source": [
        "# Change these values to manually test your program\n",
        "str_input = \"aabcc\";\n",
        "accepted_response = 3\n",
        "actual_response = longest_substring_no_repeats(str_input);\n",
        "log_results_int(accepted_response, actual_response);\n"
      ],
      "execution_count": null,
      "outputs": [
        {
          "output_type": "stream",
          "text": [
            "🔥 Try Again! Expected Integer Value: 3\n",
            "But your code returned Integer Value: 10\n",
            "\n"
          ],
          "name": "stdout"
        }
      ]
    },
    {
      "cell_type": "markdown",
      "metadata": {
        "id": "oTasTLCuBXa_"
      },
      "source": [
        "### Q9: Minimum Window Substring"
      ]
    },
    {
      "cell_type": "markdown",
      "metadata": {
        "id": "p-wvbq80c8F-"
      },
      "source": [
        "**Input**\n",
        "\n",
        "Given two strings s and t containing:\n",
        "\n",
        "- any ASCII characters\n",
        "\n",
        "**Your task**\n",
        "\n",
        "Determine the smallest \"window\" of characters in s which contains all the characters in t.\n",
        "\n",
        "**Output**\n",
        "\n",
        "Return the size of the smallest window. There may be more than 1 window with the same size. If there is no such window, return 0.\n",
        "\n",
        "**Example 1**\n",
        "\n",
        "1. Input: s = `\"readingrocks\"` t = `\"dog\"`\n",
        "2. Output: `6`\n",
        "3. Explanation: `\"dingro\"` is the smallest window of characters in s that contains all the characters in t.\n",
        "\n",
        "**Example 2**\n",
        "\n",
        "1. Input: s = `\"tea\"` t = `\"party\"`\n",
        "2. Output: `0`\n",
        "3. Explanation: There is no window.\n",
        "\n",
        "**Constraints**\n",
        "\n",
        "1. 1 <= s.length <= 10^5\n",
        "2. 1 <= t.length <= 10^5\n",
        "3. s[i] and t[i] may contain any ASCII character.\n"
      ]
    },
    {
      "cell_type": "code",
      "metadata": {
        "id": "oyCe6qAFc8F-"
      },
      "source": [
        "# Write your code here\n",
        "def minimum_substring_window(s: str, t: str) -> int:\n",
        "  return 10;"
      ],
      "execution_count": null,
      "outputs": []
    },
    {
      "cell_type": "code",
      "metadata": {
        "id": "LK-HL78Jc8GB",
        "outputId": "7d7931d3-ee4c-4ba9-a70b-ddd2ad441593",
        "colab": {
          "base_uri": "https://localhost:8080/",
          "height": 68
        }
      },
      "source": [
        "# Change these values to manually test your program\n",
        "str_input1 = \"readingrocks\";\n",
        "str_input2 = \"dog\";\n",
        "accepted_response = 6;\n",
        "actual_response = minimum_substring_window(str_input1, str_input2);\n",
        "log_results_int(accepted_response, actual_response);"
      ],
      "execution_count": null,
      "outputs": [
        {
          "output_type": "stream",
          "text": [
            "🔥 Try Again! Expected Integer Value: 6\n",
            "But your code returned Integer Value: 10\n",
            "\n"
          ],
          "name": "stdout"
        }
      ]
    },
    {
      "cell_type": "markdown",
      "metadata": {
        "id": "YyE7Q35CBcih"
      },
      "source": [
        "### Q10: Roman To Decimal"
      ]
    },
    {
      "cell_type": "markdown",
      "metadata": {
        "id": "cIRy47Gnc8j-"
      },
      "source": [
        "**Input**\n",
        "\n",
        "You are given a string representing a roman numeral.\n",
        "\n",
        "**Your task**\n",
        "\n",
        "Convert this roman numeral to an integer.\n",
        "\n",
        "**Roman Numeral Context**\n",
        "\n",
        "There are seven different Roman numeral symbols: I, V, X, L, C, D and M. Each symbol represents an integer value.\n",
        "\n",
        "```json\n",
        "Symbol       Value\n",
        "I             1\n",
        "V             5\n",
        "X             10\n",
        "L             50\n",
        "C             100\n",
        "D             500\n",
        "M             1000\n",
        "```\n",
        "\n",
        "You can represent 2 in roman numerals like `II` which is basically `I` (1) + `I` (1).\n",
        "You can represent 6 in roman numberal like `VI` which is basically + `V` (5) + `I` (1).\n",
        "\n",
        "Roman numerals are written left to right with larger than smaller symbols. However, there are a few exceptions. When smaller symbols are placed before larger ones, you subtract the smaller number from the larger\n",
        "\n",
        "- `I` (1) can be placed before `V` (5) and `X` (10) to make `IV` (4) and `IX` (9).\n",
        "- `X` (10) can be placed before `L` (50) and `C` (100) to make `XL` (40) and `XC` (90).\n",
        "- `C` (100) can be placed before `D` (500) and `M` (1000) to make `CD` (400) and `CM` (900).\n",
        "\n",
        "Back to back exceptions are not allowed. Ex: `IXC` is invalid as is `CDM`\n",
        "\n",
        "**Output**\n",
        "\n",
        "An integer represented by the roman numeral string.\n",
        "\n",
        "**Example 1**\n",
        "\n",
        "1. Input: `II`\n",
        "2. Output: 2\n",
        "\n",
        "**Example 2**\n",
        "\n",
        "1. Input: `IV`\n",
        "2. Output: 4\n",
        "3. Explanation: Since we hit an exception, we subtract `I` from `V`.\n",
        "\n",
        "**Example 3**\n",
        "\n",
        "1. Input: `CIX`\n",
        "2. Output: 109\n",
        "3. Explanation: `C` = 100, `IX` = 9\n",
        "\n",
        "**Example 4**\n",
        "\n",
        "1. Input: `LVI`\n",
        "2. Output: 56\n",
        "3. Explanation: `L` = 50, `V`= 5, `I` = 3.\n",
        "\n",
        "**Example 5**\n",
        "\n",
        "1. Input: `MCMXCIV`\n",
        "2. Output: 1994\n",
        "3. Explanation: M = 1000, CM = 900, XC = 90 and IV = 4.\n",
        "\n",
        "**Constraints**\n",
        "\n",
        "Input is guaranteed to be within the range from 1 to 3999.\n"
      ]
    },
    {
      "cell_type": "code",
      "metadata": {
        "id": "MEMf7SMRc8j_"
      },
      "source": [
        "# Write your code here \n",
        "def roman_to_decimal(s: str) -> int:\n",
        "  return 2;"
      ],
      "execution_count": null,
      "outputs": []
    },
    {
      "cell_type": "code",
      "metadata": {
        "id": "ucuteT_8c8kB",
        "outputId": "ffb63a83-f4c9-4562-f1e7-73215172d28f",
        "colab": {
          "base_uri": "https://localhost:8080/",
          "height": 51
        }
      },
      "source": [
        "# Change these values to manually test your program\n",
        "str_input = \"II\";\n",
        "accepted_response = 2\n",
        "actual_response = roman_to_decimal(str_input);\n",
        "log_results_int(accepted_response, actual_response);"
      ],
      "execution_count": null,
      "outputs": [
        {
          "output_type": "stream",
          "text": [
            "✅ PASS! Integer Value = 2\n",
            "\n"
          ],
          "name": "stdout"
        }
      ]
    },
    {
      "cell_type": "markdown",
      "metadata": {
        "id": "ENswd3WPBijG"
      },
      "source": [
        "### Q11: String Compression"
      ]
    },
    {
      "cell_type": "markdown",
      "metadata": {
        "id": "Z_dvZjDAc9LZ"
      },
      "source": [
        "**Input**\n",
        "\n",
        "Given a string s containing:\n",
        "\n",
        "- upper and lowercase (a-z) ASCII characters\n",
        "\n",
        "**Your task**\n",
        "\n",
        "Write a function that performs a \"basic\" spring compression using counts of repeated characters. If the compressed string is longer than the original string then you should return the original string.\n",
        "\n",
        "**Output**\n",
        "\n",
        "Return the shorter between the compressed string or the original string.\n",
        "\n",
        "**Example 1**\n",
        "\n",
        "1. Input: s = `\"abccddeeeee\"`\n",
        "2. Output: `\"a1b1c2d2e5\"`\n",
        "3. Explanation: `\"a1b1c2d2e5\"` is a shorter string than `\"abccddeeeee\"`. The compressed string is created by counting the number of repeated characters.\n",
        "\n",
        "**Constraints**\n",
        "\n",
        "1. 1 <= s.length <= 10^5\n",
        "2. s[i] may contain an upper or lowercase (a-z) ASCII character.\n"
      ]
    },
    {
      "cell_type": "code",
      "metadata": {
        "id": "HhzJBmVXc9La"
      },
      "source": [
        "# Write your code here\n",
        "def string_compression(s: str) -> str:\n",
        "  return s;"
      ],
      "execution_count": null,
      "outputs": []
    },
    {
      "cell_type": "code",
      "metadata": {
        "id": "8lrRN8HYc9Ld",
        "outputId": "4b476684-7155-4ae1-cae5-6dff28b2614b",
        "colab": {
          "base_uri": "https://localhost:8080/",
          "height": 68
        }
      },
      "source": [
        "# Change these values to manually test your program\n",
        "str_input = \"abccddeeeee\";\n",
        "accepted_response = \"a1b1c2d2e5\"\n",
        "actual_response = string_compression(str_input);\n",
        "log_results_int(accepted_response, actual_response);"
      ],
      "execution_count": null,
      "outputs": [
        {
          "output_type": "stream",
          "text": [
            "🔥 Try Again! Expected Integer Value: a1b1c2d2e5\n",
            "But your code returned Integer Value: abccddeeeee\n",
            "\n"
          ],
          "name": "stdout"
        }
      ]
    },
    {
      "cell_type": "markdown",
      "metadata": {
        "id": "DsSI4lyUKFHs"
      },
      "source": [
        "## Linked Lists (In Progress)"
      ]
    },
    {
      "cell_type": "markdown",
      "metadata": {
        "id": "K4dnl0ftK8vt"
      },
      "source": [
        "## Stacks and Queues (In Progress)"
      ]
    },
    {
      "cell_type": "markdown",
      "metadata": {
        "id": "R6yuQ2BVLRz2"
      },
      "source": [
        "## Binary Trees (In Progress)"
      ]
    },
    {
      "cell_type": "markdown",
      "metadata": {
        "id": "eD7hcBjlLkY2"
      },
      "source": [
        "## Heaps (In Progress)"
      ]
    },
    {
      "cell_type": "markdown",
      "metadata": {
        "id": "N2dS215qK2nK"
      },
      "source": [
        "## Graphs (In Progress)"
      ]
    },
    {
      "cell_type": "markdown",
      "metadata": {
        "id": "e-_kW2MELqfW"
      },
      "source": [
        "## Hash Tables (In Progress)"
      ]
    },
    {
      "cell_type": "markdown",
      "metadata": {
        "id": "X4Tz8E_oLoSb"
      },
      "source": [
        "## Searching (In Progress)"
      ]
    },
    {
      "cell_type": "markdown",
      "metadata": {
        "id": "5CpPuV68Kyx1"
      },
      "source": [
        "## Sorting (In Progress)"
      ]
    },
    {
      "cell_type": "markdown",
      "metadata": {
        "id": "7eWbLrVzK4kF"
      },
      "source": [
        "## Recursion (In Progress)"
      ]
    },
    {
      "cell_type": "markdown",
      "metadata": {
        "id": "kFzW-xXAK6TG"
      },
      "source": [
        "## Dynamic Programming (In Progress)"
      ]
    },
    {
      "cell_type": "markdown",
      "metadata": {
        "id": "zwpvhrYHQ3bk"
      },
      "source": [
        "# FAQ"
      ]
    },
    {
      "cell_type": "markdown",
      "metadata": {
        "id": "HA7yVH19Xw7B"
      },
      "source": [
        "## How can I master the technical interview?\n"
      ]
    },
    {
      "cell_type": "markdown",
      "metadata": {
        "id": "O-b21zWOX5VF"
      },
      "source": [
        "It comes down to you. Your level of sincerity, seriousness, and understanding."
      ]
    },
    {
      "cell_type": "markdown",
      "metadata": {
        "id": "Ic2pb26cYExC"
      },
      "source": [
        "## What must be understood?"
      ]
    },
    {
      "cell_type": "markdown",
      "metadata": {
        "id": "9HlZH33UYPMW"
      },
      "source": [
        "To master the coding interview, one must:\n",
        "\n",
        "1. Intuitively understand the technical concepts within each category of questions.\n",
        "2. Be a proficient coder.\n",
        "3. Train your perceptions."
      ]
    },
    {
      "cell_type": "markdown",
      "metadata": {
        "id": "Pnzg--qVYcaK"
      },
      "source": [
        "## What are the recurring concepts"
      ]
    },
    {
      "cell_type": "markdown",
      "metadata": {
        "id": "6jO_gtxVYgx7"
      },
      "source": [
        "*   I identify every technical concept for each category of questions from Strings to Dynamic Programming by analayzing every question in the top 4 code prep resources (CTCI, EPI, top 100 Leetcode, and glassdoor.)\n",
        "\n",
        "* See [Part 1](https://colab.research.google.com/drive/1slnnZJAtSyAqJbqF5IMBht8zNJxm8mN4#scrollTo=qTZX2XylbCAd) above for technical concepts\n",
        "\n",
        "* See [Part 2](https://colab.research.google.com/drive/1slnnZJAtSyAqJbqF5IMBht8zNJxm8mN4#scrollTo=QlJsQ5xpRHg5) above for minimum set of questions that test all technical concepts"
      ]
    },
    {
      "cell_type": "markdown",
      "metadata": {
        "id": "vYVfny4UY0Wa"
      },
      "source": [
        "## How do I most effectively understand these concepts?"
      ]
    },
    {
      "cell_type": "markdown",
      "metadata": {
        "id": "qm1nw5nrY6tj"
      },
      "source": [
        "*   To most effectively understand these concepts, you must use each of them to [solve a problem](https://colab.research.google.com/drive/1slnnZJAtSyAqJbqF5IMBht8zNJxm8mN4#scrollTo=QlJsQ5xpRHg5) entirely on your own without using a solution.\n",
        "\n",
        "*   If you get stuck on any question for more than a few minutes, move on and come to my [daily office hours](https://discord.com/channels/748740514672803900/748740515117400066) where I will provide light guidance.\n",
        "\n",
        "*   Additionally each question has a hint that links the question to the concept. You may use the hint and watch the linked [youtube video](https://www.youtube.com/channel/UC4fdhO7egjaKfoJemwD2kIA) to gain understanding of the required concept."
      ]
    },
    {
      "cell_type": "markdown",
      "metadata": {
        "id": "hH8GiIs5Y-S6"
      },
      "source": [
        "## Where else can I find you?"
      ]
    },
    {
      "cell_type": "markdown",
      "metadata": {
        "id": "z3L4RfN2ZDMG"
      },
      "source": [
        "*   Join our discord for FAQ and daily office hours from 5:00pm-5:15pm CST: https://discord.gg/e56GWrU\n",
        "\n",
        "*   Subscribe to our Youtube for more insights: https://www.youtube.com/channel/UC4fdhO7egjaKfoJemwD2kIA\n",
        "\n",
        "*   Subscribe to our mailing list for exclusive content: http://crashcode.training/\n",
        "\n",
        "*   Follow us on Twitter: https://twitter.com/CrashCodeTrain"
      ]
    },
    {
      "cell_type": "code",
      "metadata": {
        "id": "lO1aYxJrQHX0",
        "outputId": "46779f56-c26a-4829-f594-d824c6feb0a9",
        "colab": {
          "base_uri": "https://localhost:8080/",
          "height": 34
        }
      },
      "source": [
        "System.out.println(\"Hello world!\");"
      ],
      "execution_count": null,
      "outputs": [
        {
          "output_type": "stream",
          "text": [
            "Hello world!\n"
          ],
          "name": "stdout"
        }
      ]
    }
  ]
}