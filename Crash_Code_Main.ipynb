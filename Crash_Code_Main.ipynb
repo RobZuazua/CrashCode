{
  "nbformat": 4,
  "nbformat_minor": 0,
  "metadata": {
    "colab": {
      "name": "Crash_Code_Main.ipynb",
      "provenance": [],
      "collapsed_sections": [
        "Uo8CBM9y0TFp",
        "qTZX2XylbCAd",
        "pUOC5nH5-0tY",
        "QlJsQ5xpRHg5",
        "zwpvhrYHQ3bk",
        "HA7yVH19Xw7B",
        "Ic2pb26cYExC",
        "Pnzg--qVYcaK",
        "vYVfny4UY0Wa",
        "hH8GiIs5Y-S6"
      ],
      "toc_visible": true,
      "authorship_tag": "ABX9TyMWBBCei31/PJA4EdlrpUHQ",
      "include_colab_link": true
    },
    "kernelspec": {
      "display_name": "Python 3",
      "language": "python",
      "name": "python3"
    }
  },
  "cells": [
    {
      "cell_type": "markdown",
      "metadata": {
        "id": "view-in-github",
        "colab_type": "text"
      },
      "source": [
        "<a href=\"https://colab.research.google.com/github/RobZuazua/CrashCode/blob/master/Crash_Code_Main.ipynb\" target=\"_parent\"><img src=\"https://colab.research.google.com/assets/colab-badge.svg\" alt=\"Open In Colab\"/></a>"
      ]
    },
    {
      "cell_type": "markdown",
      "metadata": {
        "heading_collapsed": true,
        "id": "Uo8CBM9y0TFp"
      },
      "source": [
        "# How It Works"
      ]
    },
    {
      "cell_type": "markdown",
      "metadata": {
        "hidden": true,
        "id": "7QWELQ5VlDW2"
      },
      "source": [
        "Crash Code is an interview training program for software engineers.\n",
        "\n",
        "1. I clearly identify the [underlying technical concepts](#scrollTo=qTZX2XylbCAd) for each category of questions from Strings to Graphs.\n",
        "\n",
        "2. I create the [minimum set of coding questions](#scrollTo=QlJsQ5xpRHg5) that cover all identified technical concepts.\n",
        "\n",
        "3. **You effectively master the [underlying technical concepts](#scrollTo=qTZX2XylbCAd) by using this [minimum set of coding questions](#scrollTo=QlJsQ5xpRHg5).**"
      ]
    },
    {
      "cell_type": "markdown",
      "metadata": {
        "heading_collapsed": true,
        "id": "qTZX2XylbCAd"
      },
      "source": [
        "# Part 1: Technical Concepts "
      ]
    },
    {
      "cell_type": "markdown",
      "metadata": {
        "hidden": true,
        "id": "AtoGZlcKXWHR"
      },
      "source": [
        "I identify the technical concepts by analyzing every question in the books *Cracking the Coding Interview*, *Elements  of the Programming Interview*, the top 100 most frequently asked questions on Leetcode, and Glassdoor. "
      ]
    },
    {
      "cell_type": "markdown",
      "metadata": {
        "hidden": true,
        "id": "pUOC5nH5-0tY"
      },
      "source": [
        "## Strings"
      ]
    },
    {
      "cell_type": "markdown",
      "metadata": {
        "hidden": true,
        "id": "9MQcjsoPdHPG"
      },
      "source": [
        "[Full Analysis of every String question in CTCI, EPI, Leetcode.](https://github.com/RobZuazua/CrashCode/blob/master/Resources/Analysis/Strings.md)"
      ]
    },
    {
      "cell_type": "markdown",
      "metadata": {
        "hidden": true,
        "id": "ks5_Wb1tkl2L"
      },
      "source": [
        "**Summary of analysis:** There are 7 concepts that can be used to solve the vast majority of String  questions."
      ]
    },
    {
      "cell_type": "code",
      "metadata": {
        "hidden": true,
        "id": "Gm_TijHValMA"
      },
      "source": [
        "'''\n",
        "1. Linear Time String Matching (Rabin Karp)\n",
        "2. Sliding Window (Fast/Slow, Fast/Catch Up)\n",
        "3. Two Pass\n",
        "4. Pre-fixing (Pre-sort, Pre-reverse, Pre-double)\n",
        "5. Work Backwards\n",
        "6. Two Pointer\n",
        "7. Additional Storage (Arrays, BitVectors)\n",
        "'''"
      ],
      "execution_count": null,
      "outputs": []
    },
    {
      "cell_type": "code",
      "metadata": {
        "id": "gbf2OJ1b4DR-",
        "outputId": "644a748d-7f7d-449e-d1d1-5ffb255a196d",
        "colab": {
          "base_uri": "https://localhost:8080/",
          "height": 321
        }
      },
      "source": [
        "#Run code to watch summary video\n",
        "from IPython.display import YouTubeVideo\n",
        "YouTubeVideo('vFOIDvTkzBs')"
      ],
      "execution_count": null,
      "outputs": [
        {
          "output_type": "execute_result",
          "data": {
            "text/html": [
              "\n",
              "        <iframe\n",
              "            width=\"400\"\n",
              "            height=\"300\"\n",
              "            src=\"https://www.youtube.com/embed/vFOIDvTkzBs\"\n",
              "            frameborder=\"0\"\n",
              "            allowfullscreen\n",
              "        ></iframe>\n",
              "        "
            ],
            "text/plain": [
              "<IPython.lib.display.YouTubeVideo at 0x7f89c4c323c8>"
            ],
            "image/jpeg": "[encoded data removed]"
          },
          "metadata": {
            "tags": []
          },
          "execution_count": 1
        }
      ]
    },
    {
      "cell_type": "code",
      "metadata": {
        "id": "53Yu9nNz4dZS",
        "outputId": "cd6d5473-f55b-421e-c053-adca9799587b",
        "colab": {
          "base_uri": "https://localhost:8080/",
          "height": 321
        }
      },
      "source": [
        "#Run code to watch Linear Time String Matching conceptual deep dive\n",
        "from IPython.display import YouTubeVideo\n",
        "YouTubeVideo('V-Y3Aez4oJo')"
      ],
      "execution_count": null,
      "outputs": [
        {
          "output_type": "execute_result",
          "data": {
            "text/html": [
              "\n",
              "        <iframe\n",
              "            width=\"400\"\n",
              "            height=\"300\"\n",
              "            src=\"https://www.youtube.com/embed/V-Y3Aez4oJo\"\n",
              "            frameborder=\"0\"\n",
              "            allowfullscreen\n",
              "        ></iframe>\n",
              "        "
            ],
            "text/plain": [
              "<IPython.lib.display.YouTubeVideo at 0x7f89c4c6add8>"
            ],
            "image/jpeg": "[encoded data removed]"
          },
          "metadata": {
            "tags": []
          },
          "execution_count": 2
        }
      ]
    },
    {
      "cell_type": "code",
      "metadata": {
        "id": "yJgKke5W4mW-",
        "outputId": "3339f075-b96d-4e92-e8dc-d1d75f3e6364",
        "colab": {
          "base_uri": "https://localhost:8080/",
          "height": 321
        }
      },
      "source": [
        "#Run code to watch Sliding Window conceptual deep dive\n",
        "from IPython.display import YouTubeVideo\n",
        "YouTubeVideo('bAcPMWxnTvY')"
      ],
      "execution_count": null,
      "outputs": [
        {
          "output_type": "execute_result",
          "data": {
            "text/html": [
              "\n",
              "        <iframe\n",
              "            width=\"400\"\n",
              "            height=\"300\"\n",
              "            src=\"https://www.youtube.com/embed/bAcPMWxnTvY\"\n",
              "            frameborder=\"0\"\n",
              "            allowfullscreen\n",
              "        ></iframe>\n",
              "        "
            ],
            "text/plain": [
              "<IPython.lib.display.YouTubeVideo at 0x7f89c4c6aa90>"
            ],
            "image/jpeg": "[encoded data removed]"
          },
          "metadata": {
            "tags": []
          },
          "execution_count": 3
        }
      ]
    },
    {
      "cell_type": "markdown",
      "metadata": {
        "id": "Fw0OB8aA5BQu"
      },
      "source": [
        "To intuitively learn these concepts, [you must use each one to solve a question.](#scrollTo=QlJsQ5xpRHg5) "
      ]
    },
    {
      "cell_type": "markdown",
      "metadata": {
        "hidden": true,
        "id": "C_iLOQtI_Ahe"
      },
      "source": [
        "## Linked Lists "
      ]
    },
    {
      "cell_type": "markdown",
      "metadata": {
        "hidden": true,
        "id": "JrO6WCD1_RNT"
      },
      "source": [
        "## Stacks and Queues"
      ]
    },
    {
      "cell_type": "markdown",
      "metadata": {
        "hidden": true,
        "id": "89YgG2eY_ZKz"
      },
      "source": [
        "## Binary Trees"
      ]
    },
    {
      "cell_type": "markdown",
      "metadata": {
        "hidden": true,
        "id": "nrjhZAaI_nXC"
      },
      "source": [
        "## Heaps"
      ]
    },
    {
      "cell_type": "markdown",
      "metadata": {
        "hidden": true,
        "id": "7ZlF9-EA_pPV"
      },
      "source": [
        "## Graphs"
      ]
    },
    {
      "cell_type": "markdown",
      "metadata": {
        "hidden": true,
        "id": "FHPEm4g2_rKx"
      },
      "source": [
        "## Hash Tables"
      ]
    },
    {
      "cell_type": "markdown",
      "metadata": {
        "hidden": true,
        "id": "HaqBkO84_ulS"
      },
      "source": [
        "## Searching"
      ]
    },
    {
      "cell_type": "markdown",
      "metadata": {
        "hidden": true,
        "id": "2o2-C1_q_wTD"
      },
      "source": [
        "## Sorting"
      ]
    },
    {
      "cell_type": "markdown",
      "metadata": {
        "hidden": true,
        "id": "hV1XAT33_yIi"
      },
      "source": [
        "## Recursion"
      ]
    },
    {
      "cell_type": "markdown",
      "metadata": {
        "hidden": true,
        "id": "lzoTBHVU_zvo"
      },
      "source": [
        "## Dynamic Programming"
      ]
    },
    {
      "cell_type": "markdown",
      "metadata": {
        "heading_collapsed": true,
        "id": "QlJsQ5xpRHg5"
      },
      "source": [
        "# Part 2: Coding Questions"
      ]
    },
    {
      "cell_type": "markdown",
      "metadata": {
        "hidden": true,
        "id": "CHweop7K0cfJ"
      },
      "source": [
        "**Strings:** [JavaScript](https://colab.research.google.com/github/RobZuazua/CrashCode/blob/master/Notebooks/JavaScript_Strings.ipynb), [Java](https://colab.research.google.com/github/RobZuazua/CrashCode/blob/master/Notebooks/Java_Strings.ipynb), [Python](https://colab.research.google.com/github/RobZuazua/CrashCode/blob/master/Notebooks/Python_Strings.ipynb)"
      ]
    },
    {
      "cell_type": "markdown",
      "metadata": {
        "hidden": true,
        "id": "DsSI4lyUKFHs"
      },
      "source": [
        "**Linked Lists:** "
      ]
    },
    {
      "cell_type": "markdown",
      "metadata": {
        "hidden": true,
        "id": "K4dnl0ftK8vt"
      },
      "source": [
        "**Stacks and Queues:** "
      ]
    },
    {
      "cell_type": "markdown",
      "metadata": {
        "hidden": true,
        "id": "R6yuQ2BVLRz2"
      },
      "source": [
        "**Binary Trees:** "
      ]
    },
    {
      "cell_type": "markdown",
      "metadata": {
        "hidden": true,
        "id": "eD7hcBjlLkY2"
      },
      "source": [
        "**Heaps:** "
      ]
    },
    {
      "cell_type": "markdown",
      "metadata": {
        "hidden": true,
        "id": "N2dS215qK2nK"
      },
      "source": [
        "**Graphs:** "
      ]
    },
    {
      "cell_type": "markdown",
      "metadata": {
        "hidden": true,
        "id": "e-_kW2MELqfW"
      },
      "source": [
        "**Hash Tables:** "
      ]
    },
    {
      "cell_type": "markdown",
      "metadata": {
        "hidden": true,
        "id": "X4Tz8E_oLoSb"
      },
      "source": [
        "**Searching:** "
      ]
    },
    {
      "cell_type": "markdown",
      "metadata": {
        "hidden": true,
        "id": "5CpPuV68Kyx1"
      },
      "source": [
        "**Sorting:** "
      ]
    },
    {
      "cell_type": "markdown",
      "metadata": {
        "hidden": true,
        "id": "7eWbLrVzK4kF"
      },
      "source": [
        "**Recursion:** "
      ]
    },
    {
      "cell_type": "markdown",
      "metadata": {
        "hidden": true,
        "id": "kFzW-xXAK6TG"
      },
      "source": [
        "**Dynamic Programming:** "
      ]
    },
    {
      "cell_type": "markdown",
      "metadata": {
        "heading_collapsed": true,
        "id": "zwpvhrYHQ3bk"
      },
      "source": [
        "# FAQ"
      ]
    },
    {
      "cell_type": "markdown",
      "metadata": {
        "hidden": true,
        "id": "HA7yVH19Xw7B"
      },
      "source": [
        "## How can I master the technical interview?\n"
      ]
    },
    {
      "cell_type": "markdown",
      "metadata": {
        "hidden": true,
        "id": "O-b21zWOX5VF"
      },
      "source": [
        "It comes down to you. Your level of sincerity, seriousness, and understanding ultimately determines how you will perform in your interviews.\n",
        "\n",
        "No \"5-step plan\" can replace your perceptions.\n"
      ]
    },
    {
      "cell_type": "markdown",
      "metadata": {
        "hidden": true,
        "id": "Ic2pb26cYExC"
      },
      "source": [
        "## What must be understood?"
      ]
    },
    {
      "cell_type": "markdown",
      "metadata": {
        "hidden": true,
        "id": "9HlZH33UYPMW"
      },
      "source": [
        "1. Intuitively understand the technical concepts within each category of questions.\n",
        "2. Be a proficient coder.\n",
        "3. Train your perceptions."
      ]
    },
    {
      "cell_type": "markdown",
      "metadata": {
        "hidden": true,
        "id": "Pnzg--qVYcaK"
      },
      "source": [
        "## What are the recurring concepts"
      ]
    },
    {
      "cell_type": "markdown",
      "metadata": {
        "hidden": true,
        "id": "6jO_gtxVYgx7"
      },
      "source": [
        "*   I identify every technical concept for each category of questions from Strings to Dynamic Programming by analayzing every question in the top 4 code prep resources (CTCI, EPI, top 100 Leetcode, and glassdoor.)\n",
        "\n",
        "* See [Part 1](#scrollTo=qTZX2XylbCAd) above for technical concepts\n",
        "\n",
        "* See [Part 2](#scrollTo=QlJsQ5xpRHg5) above for minimum set of questions that test all technical concepts"
      ]
    },
    {
      "cell_type": "markdown",
      "metadata": {
        "hidden": true,
        "id": "vYVfny4UY0Wa"
      },
      "source": [
        "## How do I most effectively understand these concepts?"
      ]
    },
    {
      "cell_type": "markdown",
      "metadata": {
        "hidden": true,
        "id": "qm1nw5nrY6tj"
      },
      "source": [
        "*   To most effectively understand these concepts, you must use each of them to [solve a problem](#scrollTo=QlJsQ5xpRHg5) entirely on your own without using a solution.\n",
        "\n",
        "*   If you get stuck on any question for more than a few minutes, move on and come to my [daily office hours](https://discord.com/channels/748740514672803900/748740515117400066) where I will provide light guidance.\n",
        "\n",
        "*   Additionally each question has a hint that links the question to the concept. You may use the hint and watch the linked [youtube video](https://www.youtube.com/channel/UC4fdhO7egjaKfoJemwD2kIA) to gain understanding of the required concept."
      ]
    },
    {
      "cell_type": "markdown",
      "metadata": {
        "hidden": true,
        "id": "hH8GiIs5Y-S6"
      },
      "source": [
        "## Where else can I find you?"
      ]
    },
    {
      "cell_type": "markdown",
      "metadata": {
        "hidden": true,
        "id": "z3L4RfN2ZDMG"
      },
      "source": [
        "*   Join our discord for FAQ and daily office hours from 5:00pm-5:15pm CST: https://discord.gg/e56GWrU\n",
        "\n",
        "*   Subscribe to our Youtube for more insights: https://www.youtube.com/channel/UC4fdhO7egjaKfoJemwD2kIA\n",
        "\n",
        "*   Subscribe to our mailing list for exclusive content: http://crashcode.training/\n",
        "\n",
        "*   Follow us on Twitter: https://twitter.com/RobZuazua"
      ]
    }
  ]
}